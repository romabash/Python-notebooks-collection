{
 "cells": [
  {
   "cell_type": "code",
   "execution_count": 11,
   "metadata": {},
   "outputs": [],
   "source": [
    "import numpy as np\n",
    "from scipy import linalg\n",
    "import sympy as sympy\n",
    "from sympy import *"
   ]
  },
  {
   "cell_type": "markdown",
   "metadata": {},
   "source": [
    "---"
   ]
  },
  {
   "cell_type": "markdown",
   "metadata": {},
   "source": [
    "# Matrix Properties"
   ]
  },
  {
   "cell_type": "markdown",
   "metadata": {},
   "source": [
    "### Inverse and Determinants"
   ]
  },
  {
   "cell_type": "markdown",
   "metadata": {},
   "source": [
    "- The $n \\times n$ Matrix $A$ is **Invertible** and **Non-Singular** if there exists a Matrix $B$ such that $AB = BA = I$\n",
    "- The **Determinant** is a scalar value that indicates the scale of the transformation\n",
    "- If Matrix $A$ is **Invertable**, then Matrix $A \\begin{bmatrix} a & d \\\\ b & c \\end{bmatrix}$ is **Non-Singular**, and $ab - cd \\neq 0$\n",
    "- If Matrix $A$ is **Non-Invertable**, then Matrix $A \\begin{bmatrix} a & d \\\\ b & c \\end{bmatrix}$ is **Singular**, and $ab - cd = 0$\n",
    "- If Matricies $A$ and $B$ are Invertible $n \\times n$ Matricies, then $(AB)^{-1} = B^{-1}A^{-1}$"
   ]
  },
  {
   "cell_type": "markdown",
   "metadata": {},
   "source": [
    "### Matrix Transpose"
   ]
  },
  {
   "cell_type": "markdown",
   "metadata": {},
   "source": [
    "- Find Matrix $(AB)^{T}$ if $A = \\begin{bmatrix} 1 & 3 \\\\ 2 & 4 \\end{bmatrix}$ and $B = \\begin{bmatrix} 6 & 0 \\\\ -2 & 7 \\end{bmatrix}$\n",
    "- $(AB)^{T} \\neq A^{T} B^{T}$"
   ]
  },
  {
   "cell_type": "code",
   "execution_count": 4,
   "metadata": {},
   "outputs": [],
   "source": [
    "A = np.array([[1,3], [2,4]])\n",
    "B = np.array([[6,0], [-2,7]])"
   ]
  },
  {
   "cell_type": "code",
   "execution_count": 5,
   "metadata": {},
   "outputs": [
    {
     "data": {
      "text/plain": [
       "array([[ 0,  4],\n",
       "       [21, 28]])"
      ]
     },
     "execution_count": 5,
     "metadata": {},
     "output_type": "execute_result"
    }
   ],
   "source": [
    "# Find Transpose of A*B\n",
    "np.transpose(np.dot(A,B))"
   ]
  },
  {
   "cell_type": "code",
   "execution_count": 6,
   "metadata": {},
   "outputs": [
    {
     "data": {
      "text/plain": [
       "array([[ 6, 12],\n",
       "       [18, 22]])"
      ]
     },
     "execution_count": 6,
     "metadata": {},
     "output_type": "execute_result"
    }
   ],
   "source": [
    "# Dot Product of A.transpose() and B.transpose()\n",
    "np.dot(A.transpose(), B.transpose())"
   ]
  },
  {
   "cell_type": "markdown",
   "metadata": {},
   "source": [
    "- $(AB)^{T} \\neq A^{T} B^{T}$"
   ]
  },
  {
   "cell_type": "markdown",
   "metadata": {},
   "source": [
    "---"
   ]
  },
  {
   "cell_type": "markdown",
   "metadata": {},
   "source": [
    "# Linear Systems"
   ]
  },
  {
   "cell_type": "markdown",
   "metadata": {},
   "source": [
    "### Augmented Matrix Notation and Elimination Algorithm:\n",
    "- Forward prop for every row:\n",
    "    - Make the leftmost nonzero entry in the top row 1 by multiplication\n",
    "    - Use that to eliminate everything below it\n",
    "    - Make the leftmost nonzero entry in the next row 1\n",
    "    - Use that to eliminate everything below it\n",
    "    - Go to the next row and repeat...\n",
    "- Back prop:\n",
    "    - In the column that contains leftmost entry 1, eliminate entries above it and make them zero\n",
    "    \n",
    "### Elementary Row Operations:\n",
    "- Row swap\n",
    "- Scalar Multiplication\n",
    "- Row Addition\n",
    "\n",
    "### Pivots and Free Variables:\n",
    "- In every row the leftmost non-zero entry 1 is called a pivot\n",
    "- Variables corresponding to the columns that do not contain the pivot are called Free Variables"
   ]
  },
  {
   "cell_type": "markdown",
   "metadata": {},
   "source": [
    "### RREF: Reduced Row Echelon Form"
   ]
  },
  {
   "cell_type": "markdown",
   "metadata": {},
   "source": [
    "- Use elementary row operations to find the RREF for Matrix $A = \\begin{bmatrix} 1 & 2 & 3 \\\\ 4 & 5 & 6 \\\\ 7 & 8 & 9 \\end{bmatrix}$"
   ]
  },
  {
   "cell_type": "code",
   "execution_count": 22,
   "metadata": {},
   "outputs": [
    {
     "name": "stdout",
     "output_type": "stream",
     "text": [
      "Matrix : Matrix([[1, 2, 3], [4, 5, 6], [7, 8, 9]]) \n",
      "Matrix : (Matrix([\n",
      "[1, 0, -1],\n",
      "[0, 1,  2],\n",
      "[0, 0,  0]]), (0, 1)) \n"
     ]
    }
   ],
   "source": [
    "A = np.array([[1,2,3],[4,5,6],[7,8,9]])\n",
    "\n",
    "# Transform NumPy array into a Sympy Matrix\n",
    "M = sympy.Matrix(A)\n",
    "print(f\"Matrix : {M} \") \n",
    "   \n",
    "# Use sympy.rref() method  \n",
    "M_rref = M.rref()\n",
    "print(f\"Matrix : {M_rref} \") "
   ]
  },
  {
   "cell_type": "markdown",
   "metadata": {},
   "source": [
    "### Solvability and Rank of a Matrix:\n",
    "- Gaussian elimination reveals the **Pivot Variables** and **Free Variables** of a Matrix\n",
    "- If there are **r** Pivots, then there are **n - r** Free Variables\n",
    "- The **Rank of a Matrix, rank(A)** is equal to the number of **Pivot Variables** "
   ]
  },
  {
   "cell_type": "code",
   "execution_count": 25,
   "metadata": {},
   "outputs": [
    {
     "data": {
      "text/plain": [
       "3"
      ]
     },
     "execution_count": 25,
     "metadata": {},
     "output_type": "execute_result"
    }
   ],
   "source": [
    "# Find the Rank of Matrix A\n",
    "A = np.array([[1,2,3],[1,4,9],[1,8,27]])\n",
    "\n",
    "# Find Rank using np.linalg.matrix_rank(A)\n",
    "np.linalg.matrix_rank(A)"
   ]
  },
  {
   "cell_type": "code",
   "execution_count": 26,
   "metadata": {},
   "outputs": [
    {
     "name": "stdout",
     "output_type": "stream",
     "text": [
      "Matrix : (Matrix([\n",
      "[1, 0, 0],\n",
      "[0, 1, 0],\n",
      "[0, 0, 1]]), (0, 1, 2)) \n"
     ]
    }
   ],
   "source": [
    "# Find Rank with RREF, using sympy.rref() method\n",
    "M = sympy.Matrix(A)\n",
    "M_rref = M.rref()\n",
    "print(f\"Matrix : {M_rref} \") "
   ]
  },
  {
   "cell_type": "markdown",
   "metadata": {},
   "source": [
    "- 3 Pivots indicate Rank(A) = 3"
   ]
  },
  {
   "cell_type": "code",
   "execution_count": 24,
   "metadata": {},
   "outputs": [
    {
     "name": "stdout",
     "output_type": "stream",
     "text": [
      "A: \n",
      "[[ 2 -4 -1]\n",
      " [ 1 -3  1]\n",
      " [ 3 -5 -3]]\n",
      "b: \n",
      "[1 1 1]\n",
      "A_inverse: \n",
      "[[-1.57625987e+16  7.88129935e+15  7.88129935e+15]\n",
      " [-6.75539944e+15  3.37769972e+15  3.37769972e+15]\n",
      " [-4.50359963e+15  2.25179981e+15  2.25179981e+15]]\n",
      "X: \n",
      "[[0.  0.  0.5]]\n"
     ]
    }
   ],
   "source": [
    "# 1) Wrong result\n",
    "A = np.array([[2,-4,-1], [1,-3,1], [3,-5,-3]])\n",
    "A = np.matrix(A)\n",
    "b = np.array([1,1,1])\n",
    "print(\"A: \"); print(A)\n",
    "print(\"b: \"); print(b)\n",
    "\n",
    "A_inverse = np.linalg.inv(A) # find inverse of X\n",
    "print(\"A_inverse: \"); print(A_inverse)\n",
    "\n",
    "X = np.dot(A_inverse, b)\n",
    "print(\"X: \"); print(X)"
   ]
  },
  {
   "cell_type": "code",
   "execution_count": 30,
   "metadata": {},
   "outputs": [
    {
     "name": "stdout",
     "output_type": "stream",
     "text": [
      "A: \n",
      "[[ 2 -4 -1]\n",
      " [ 1 -3  1]\n",
      " [ 3 -5 -3]]\n",
      "b: \n",
      "[1 1 1]\n",
      "X: \n",
      "[ 0.375 -0.125  0.25 ]\n"
     ]
    },
    {
     "data": {
      "text/plain": [
       "True"
      ]
     },
     "execution_count": 30,
     "metadata": {},
     "output_type": "execute_result"
    }
   ],
   "source": [
    "# 1) Second try \n",
    "A = np.array([[2,-4,-1], [1,-3,1], [3,-5,-3]])\n",
    "print(\"A: \"); print(A)\n",
    "b = np.array([1,1,1])\n",
    "print(\"b: \"); print(b)\n",
    "X = np.linalg.solve(A, b)\n",
    "print(\"X: \"); print(X)\n",
    "\n",
    "# Check that the solution is correct:\n",
    "np.allclose(np.dot(A, X), b)\n"
   ]
  },
  {
   "cell_type": "code",
   "execution_count": 9,
   "metadata": {},
   "outputs": [
    {
     "data": {
      "text/plain": [
       "-8"
      ]
     },
     "execution_count": 9,
     "metadata": {},
     "output_type": "execute_result"
    }
   ],
   "source": [
    "# 2) Dot product of u*v\n",
    "\n",
    "u = np.array([3,1,4])\n",
    "v = np.array([2,2,-4])\n",
    "\n",
    "np.dot(u,v)"
   ]
  },
  {
   "cell_type": "code",
   "execution_count": 12,
   "metadata": {},
   "outputs": [
    {
     "ename": "LinAlgError",
     "evalue": "Singular matrix",
     "output_type": "error",
     "traceback": [
      "\u001b[1;31m---------------------------------------------------------------------------\u001b[0m",
      "\u001b[1;31mLinAlgError\u001b[0m                               Traceback (most recent call last)",
      "\u001b[1;32m<ipython-input-12-20f7712ded6f>\u001b[0m in \u001b[0;36m<module>\u001b[1;34m()\u001b[0m\n\u001b[0;32m      1\u001b[0m \u001b[1;31m# 3) Is A invertible\u001b[0m\u001b[1;33m\u001b[0m\u001b[1;33m\u001b[0m\u001b[0m\n\u001b[0;32m      2\u001b[0m \u001b[0mA\u001b[0m \u001b[1;33m=\u001b[0m \u001b[0mnp\u001b[0m\u001b[1;33m.\u001b[0m\u001b[0marray\u001b[0m\u001b[1;33m(\u001b[0m\u001b[1;33m[\u001b[0m\u001b[1;33m[\u001b[0m\u001b[1;33m-\u001b[0m\u001b[1;36m1\u001b[0m\u001b[1;33m,\u001b[0m\u001b[1;36m2\u001b[0m\u001b[1;33m]\u001b[0m\u001b[1;33m,\u001b[0m \u001b[1;33m[\u001b[0m\u001b[1;36m3\u001b[0m\u001b[1;33m,\u001b[0m\u001b[1;33m-\u001b[0m\u001b[1;36m6\u001b[0m\u001b[1;33m]\u001b[0m\u001b[1;33m]\u001b[0m\u001b[1;33m)\u001b[0m\u001b[1;33m\u001b[0m\u001b[0m\n\u001b[1;32m----> 3\u001b[1;33m \u001b[0mnp\u001b[0m\u001b[1;33m.\u001b[0m\u001b[0mlinalg\u001b[0m\u001b[1;33m.\u001b[0m\u001b[0minv\u001b[0m\u001b[1;33m(\u001b[0m\u001b[0mA\u001b[0m\u001b[1;33m)\u001b[0m\u001b[1;33m\u001b[0m\u001b[0m\n\u001b[0m",
      "\u001b[1;32m~\\Anaconda3\\lib\\site-packages\\numpy\\linalg\\linalg.py\u001b[0m in \u001b[0;36minv\u001b[1;34m(a)\u001b[0m\n\u001b[0;32m    526\u001b[0m     \u001b[0msignature\u001b[0m \u001b[1;33m=\u001b[0m \u001b[1;34m'D->D'\u001b[0m \u001b[1;32mif\u001b[0m \u001b[0misComplexType\u001b[0m\u001b[1;33m(\u001b[0m\u001b[0mt\u001b[0m\u001b[1;33m)\u001b[0m \u001b[1;32melse\u001b[0m \u001b[1;34m'd->d'\u001b[0m\u001b[1;33m\u001b[0m\u001b[0m\n\u001b[0;32m    527\u001b[0m     \u001b[0mextobj\u001b[0m \u001b[1;33m=\u001b[0m \u001b[0mget_linalg_error_extobj\u001b[0m\u001b[1;33m(\u001b[0m\u001b[0m_raise_linalgerror_singular\u001b[0m\u001b[1;33m)\u001b[0m\u001b[1;33m\u001b[0m\u001b[0m\n\u001b[1;32m--> 528\u001b[1;33m     \u001b[0mainv\u001b[0m \u001b[1;33m=\u001b[0m \u001b[0m_umath_linalg\u001b[0m\u001b[1;33m.\u001b[0m\u001b[0minv\u001b[0m\u001b[1;33m(\u001b[0m\u001b[0ma\u001b[0m\u001b[1;33m,\u001b[0m \u001b[0msignature\u001b[0m\u001b[1;33m=\u001b[0m\u001b[0msignature\u001b[0m\u001b[1;33m,\u001b[0m \u001b[0mextobj\u001b[0m\u001b[1;33m=\u001b[0m\u001b[0mextobj\u001b[0m\u001b[1;33m)\u001b[0m\u001b[1;33m\u001b[0m\u001b[0m\n\u001b[0m\u001b[0;32m    529\u001b[0m     \u001b[1;32mreturn\u001b[0m \u001b[0mwrap\u001b[0m\u001b[1;33m(\u001b[0m\u001b[0mainv\u001b[0m\u001b[1;33m.\u001b[0m\u001b[0mastype\u001b[0m\u001b[1;33m(\u001b[0m\u001b[0mresult_t\u001b[0m\u001b[1;33m,\u001b[0m \u001b[0mcopy\u001b[0m\u001b[1;33m=\u001b[0m\u001b[1;32mFalse\u001b[0m\u001b[1;33m)\u001b[0m\u001b[1;33m)\u001b[0m\u001b[1;33m\u001b[0m\u001b[0m\n\u001b[0;32m    530\u001b[0m \u001b[1;33m\u001b[0m\u001b[0m\n",
      "\u001b[1;32m~\\Anaconda3\\lib\\site-packages\\numpy\\linalg\\linalg.py\u001b[0m in \u001b[0;36m_raise_linalgerror_singular\u001b[1;34m(err, flag)\u001b[0m\n\u001b[0;32m     87\u001b[0m \u001b[1;33m\u001b[0m\u001b[0m\n\u001b[0;32m     88\u001b[0m \u001b[1;32mdef\u001b[0m \u001b[0m_raise_linalgerror_singular\u001b[0m\u001b[1;33m(\u001b[0m\u001b[0merr\u001b[0m\u001b[1;33m,\u001b[0m \u001b[0mflag\u001b[0m\u001b[1;33m)\u001b[0m\u001b[1;33m:\u001b[0m\u001b[1;33m\u001b[0m\u001b[0m\n\u001b[1;32m---> 89\u001b[1;33m     \u001b[1;32mraise\u001b[0m \u001b[0mLinAlgError\u001b[0m\u001b[1;33m(\u001b[0m\u001b[1;34m\"Singular matrix\"\u001b[0m\u001b[1;33m)\u001b[0m\u001b[1;33m\u001b[0m\u001b[0m\n\u001b[0m\u001b[0;32m     90\u001b[0m \u001b[1;33m\u001b[0m\u001b[0m\n\u001b[0;32m     91\u001b[0m \u001b[1;32mdef\u001b[0m \u001b[0m_raise_linalgerror_nonposdef\u001b[0m\u001b[1;33m(\u001b[0m\u001b[0merr\u001b[0m\u001b[1;33m,\u001b[0m \u001b[0mflag\u001b[0m\u001b[1;33m)\u001b[0m\u001b[1;33m:\u001b[0m\u001b[1;33m\u001b[0m\u001b[0m\n",
      "\u001b[1;31mLinAlgError\u001b[0m: Singular matrix"
     ]
    }
   ],
   "source": [
    "# 3) Is A invertible\n",
    "\n",
    "A = np.array([[-1,2], [3,-6]])\n",
    "np.linalg.inv(A) # False"
   ]
  },
  {
   "cell_type": "code",
   "execution_count": 20,
   "metadata": {},
   "outputs": [
    {
     "name": "stdout",
     "output_type": "stream",
     "text": [
      "[[3 1]\n",
      " [2 1]]\n",
      "[[41 15]\n",
      " [30 11]]\n",
      "[[3 1]\n",
      " [2 1]]\n",
      "[[41 15]\n",
      " [30 11]]\n"
     ]
    }
   ],
   "source": [
    "# 4) A^3\n",
    "\n",
    "A_array = np.array([[3,1], [2,1]])\n",
    "A_array3 = np.linalg.matrix_power(A_array, 3)\n",
    "print(A_array)\n",
    "print(A_array3)\n",
    "\n",
    "A_matrix = np.matrix(A_array)\n",
    "A_matrix3 = A_matrix**3\n",
    "print(A_matrix)\n",
    "print(A_matrix3)"
   ]
  },
  {
   "cell_type": "code",
   "execution_count": null,
   "metadata": {},
   "outputs": [],
   "source": []
  }
 ],
 "metadata": {
  "kernelspec": {
   "display_name": "Python 3",
   "language": "python",
   "name": "python3"
  },
  "language_info": {
   "codemirror_mode": {
    "name": "ipython",
    "version": 3
   },
   "file_extension": ".py",
   "mimetype": "text/x-python",
   "name": "python",
   "nbconvert_exporter": "python",
   "pygments_lexer": "ipython3",
   "version": "3.7.6"
  }
 },
 "nbformat": 4,
 "nbformat_minor": 2
}
