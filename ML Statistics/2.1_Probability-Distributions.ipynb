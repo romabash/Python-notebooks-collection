{
 "cells": [
  {
   "cell_type": "markdown",
   "metadata": {},
   "source": [
    "# Probability Distributions"
   ]
  },
  {
   "cell_type": "markdown",
   "metadata": {},
   "source": [
    "---"
   ]
  },
  {
   "cell_type": "markdown",
   "metadata": {},
   "source": [
    "## Expected Value\n",
    "- Let X be a random variable with finite number of outcomes $x_{1}, x_{2},..., x_{n}$ occurring with probabilities $p_{1}, p_{2},..., p_{n}$ respectively. The expected value or Mean of $X$ is defined by:\n",
    "$$E(X) = x_{1}p_{1} + x_{2}p_{2} +...+ x_{n}p_{n} = \\Sigma_{x} P(x)X(x)$$\n",
    "- Weighted average with probabilities being the weights (The expected value of a dice rolled infinite number of times is 3.5)\n",
    "- The expectation or expected value of some function $f(x)$ with respect to probability distribution pdf $P(x)$ is the average or mean value that $f$ takes when $x$ is drawn from pdf: $\\mu= E(X)$\n",
    "- If it is continuous random variable, then $E(X)$ is an integral: $$\\int_{-\\infty}^\\infty X(t)dt$$"
   ]
  },
  {
   "cell_type": "markdown",
   "metadata": {},
   "source": [
    "## Variance\n",
    "- A measure of how spread out the distribution is\n",
    "- Variance gives a measure of  how much the values of random variable X vary as we sample different values of X from its probability distribution. It is the expected value of the squared deviation of the variable's value from the variable's expected value $$Var(X) = E(X - \\mu)^2 = E(X - E(X))^2$$  $$Var(X) = E(X^2) -E(X)^2$$\n",
    "- The square root of variance is known as standard deviation: $$SD(X) = \\sqrt{Var(X)}$$"
   ]
  },
  {
   "cell_type": "markdown",
   "metadata": {},
   "source": [
    "## Covariance\n",
    "- Single number summary of joint distribution of two random variables and how the two values are related to each other\n",
    "$$Cov(X,Y) = E(X − E(X))(Y − E(Y))$$   $$Cov(X,Y) = E(XY) − E(X)E(Y)$$\n",
    "- Covariance is measure of linear association of two random variables\n",
    "- If X and Y are two independent random variables then they are uncorrelated and their covariance is zero"
   ]
  },
  {
   "cell_type": "markdown",
   "metadata": {},
   "source": [
    "## Probability Distribution Functions\n",
    "- Function $F(x)$, where $x$ is a value that random variable can take from a set of values and $F(x)$ is probability $P(X \\leq x)$\n",
    "- Discrete: Data is a discrete number\n",
    "- Continuous: Data is within a range of real numbers"
   ]
  },
  {
   "cell_type": "markdown",
   "metadata": {},
   "source": [
    "## Bernoulli Distribution\n",
    "- Two possible values: 0 and 1\n",
    "- A random variable $X$ is said to have **Bernoulli Distribution** with parameter $p$ if $P(X=1) = p$ and $P(X=0)\n",
    "= 1-p$, where $0<p<1$: $$X \\sim Bern(p)$$ \n",
    "- The number $p$ in $Bern(p)$ is called the parameter of the distribution $X \\sim Bern(\\frac{1}{3})$\n",
    "- Bernoulli random varibale can be the indicator of \"Success\" (=1) or \"Failure\" (=0) in Bernoulli trial"
   ]
  },
  {
   "cell_type": "code",
   "execution_count": null,
   "metadata": {},
   "outputs": [],
   "source": []
  },
  {
   "cell_type": "markdown",
   "metadata": {},
   "source": [
    "#### Normal Distribution"
   ]
  },
  {
   "cell_type": "code",
   "execution_count": 4,
   "metadata": {},
   "outputs": [],
   "source": [
    "import numpy as np\n",
    "import matplotlib.pyplot as plt\n",
    "from scipy import stats\n",
    "\n",
    "plt.style.use('ggplot')\n",
    "\n",
    "%matplotlib inline"
   ]
  },
  {
   "cell_type": "code",
   "execution_count": 18,
   "metadata": {},
   "outputs": [],
   "source": [
    "def normal_dist_plot(x_range, mu=0, sigma=1, cdf=False, **kwargs):\n",
    "    '''\n",
    "    Plots for a Normal Distribution Function for a given x range.\n",
    "    To plot cdf, set cdf=True\n",
    "    Additional keyword arguments can be provided for matplotlib customization\n",
    "    '''\n",
    "    \n",
    "    x = x_range\n",
    "    if cdf == True:\n",
    "        y = stats.norm.cdf(x, mu, sigma)\n",
    "    else:\n",
    "        y = stats.norm.pdf(x, mu, sigma)\n",
    "    \n",
    "    plt.plot(x, y, **kwargs)\n",
    "    plt.legend()"
   ]
  },
  {
   "cell_type": "code",
   "execution_count": 19,
   "metadata": {},
   "outputs": [
    {
     "data": {
      "image/png": "[encoded data removed]",
      "text/plain": [
       "<Figure size 432x288 with 1 Axes>"
      ]
     },
     "metadata": {
      "needs_background": "light"
     },
     "output_type": "display_data"
    }
   ],
   "source": [
    "x = np.linspace(-3,3,5000)\n",
    "normal_dist_plot(x, label='pdf', color='red', lw=2, ls='-', alpha=0.5)\n",
    "normal_dist_plot(x, cdf=True, label='cdf', color='blue', lw=2, ls='-', alpha=0.5)"
   ]
  },
  {
   "cell_type": "markdown",
   "metadata": {},
   "source": [
    "#### Exponential Distribution"
   ]
  },
  {
   "cell_type": "code",
   "execution_count": 20,
   "metadata": {},
   "outputs": [],
   "source": [
    "def expon_dist_plot(x_range, mu=0, sigma=1, cdf=False, **kwargs):\n",
    "    '''\n",
    "    Plots for a Exponential Distribution Function for a given x range.\n",
    "    To plot cdf, set cdf=True\n",
    "    Additional keyword arguments can be provided for matplotlib customization\n",
    "    '''\n",
    "    \n",
    "    x = x_range\n",
    "    if cdf == True:\n",
    "        y = stats.expon.cdf(x, mu, sigma)\n",
    "    else:\n",
    "        y = stats.expon.pdf(x, mu, sigma)\n",
    "    \n",
    "    plt.plot(x, y, **kwargs)\n",
    "    plt.legend()"
   ]
  },
  {
   "cell_type": "code",
   "execution_count": 21,
   "metadata": {},
   "outputs": [
    {
     "data": {
      "image/png": "[encoded data removed]",
      "text/plain": [
       "<Figure size 432x288 with 1 Axes>"
      ]
     },
     "metadata": {
      "needs_background": "light"
     },
     "output_type": "display_data"
    }
   ],
   "source": [
    "x = np.linspace(0,5,5000)\n",
    "normal_dist_plot(x_range=x, mu=0, sigma=1, label='pdf', color='red', lw=2, ls='-', alpha=0.5)\n",
    "normal_dist_plot(x_range=x, mu=0, sigma=1, cdf=True, label='cdf', color='blue', lw=2, ls='-', alpha=0.5)"
   ]
  },
  {
   "cell_type": "code",
   "execution_count": null,
   "metadata": {},
   "outputs": [],
   "source": []
  }
 ],
 "metadata": {
  "kernelspec": {
   "display_name": "Python 3",
   "language": "python",
   "name": "python3"
  },
  "language_info": {
   "codemirror_mode": {
    "name": "ipython",
    "version": 3
   },
   "file_extension": ".py",
   "mimetype": "text/x-python",
   "name": "python",
   "nbconvert_exporter": "python",
   "pygments_lexer": "ipython3",
   "version": "3.7.6"
  }
 },
 "nbformat": 4,
 "nbformat_minor": 4
}
