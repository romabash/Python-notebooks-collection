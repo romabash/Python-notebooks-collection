{
 "cells": [
  {
   "cell_type": "markdown",
   "metadata": {},
   "source": [
    "# Working with Stock Data"
   ]
  },
  {
   "cell_type": "code",
   "execution_count": 1,
   "metadata": {
    "collapsed": true
   },
   "outputs": [],
   "source": [
    "import datetime as dt\n",
    "import matplotlib.pyplot as plt\n",
    "from matplotlib import style\n",
    "import pandas as pd\n",
    "import pandas_datareader.data as web\n",
    "%matplotlib inline\n",
    "\n",
    "style.use('ggplot') # Set style"
   ]
  },
  {
   "cell_type": "code",
   "execution_count": 2,
   "metadata": {
    "collapsed": true
   },
   "outputs": [],
   "source": [
    "df = pd.read_csv('tsla.csv', parse_dates=True, index_col=0)"
   ]
  },
  {
   "cell_type": "markdown",
   "metadata": {},
   "source": [
    "#### Create new column for Moving Average:\n",
    "- MA smooths out price over time\n",
    "- A 100-day MA would average out the closing prices for the first 100 days as the first data point. The next data point would drop the earliest price, add the price on day 101 and take the average\n"
   ]
  },
  {
   "cell_type": "code",
   "execution_count": 3,
   "metadata": {
    "collapsed": true
   },
   "outputs": [],
   "source": [
    "df['100ma'] = df['Adj Close'].rolling(window=100).mean()\n",
    "#df['100ma'] = df['Adj Close'].rolling(window=100, min_periods=0).mean() - no NaN for first data points"
   ]
  },
  {
   "cell_type": "code",
   "execution_count": 4,
   "metadata": {},
   "outputs": [
    {
     "data": {
      "text/html": [
       "<div>\n",
       "<style>\n",
       "    .dataframe thead tr:only-child th {\n",
       "        text-align: right;\n",
       "    }\n",
       "\n",
       "    .dataframe thead th {\n",
       "        text-align: left;\n",
       "    }\n",
       "\n",
       "    .dataframe tbody tr th {\n",
       "        vertical-align: top;\n",
       "    }\n",
       "</style>\n",
       "<table border=\"1\" class=\"dataframe\">\n",
       "  <thead>\n",
       "    <tr style=\"text-align: right;\">\n",
       "      <th></th>\n",
       "      <th>Open</th>\n",
       "      <th>High</th>\n",
       "      <th>Low</th>\n",
       "      <th>Close</th>\n",
       "      <th>Adj Close</th>\n",
       "      <th>Volume</th>\n",
       "      <th>100ma</th>\n",
       "    </tr>\n",
       "    <tr>\n",
       "      <th>Date</th>\n",
       "      <th></th>\n",
       "      <th></th>\n",
       "      <th></th>\n",
       "      <th></th>\n",
       "      <th></th>\n",
       "      <th></th>\n",
       "      <th></th>\n",
       "    </tr>\n",
       "  </thead>\n",
       "  <tbody>\n",
       "    <tr>\n",
       "      <th>2010-06-29</th>\n",
       "      <td>19.000000</td>\n",
       "      <td>25.00</td>\n",
       "      <td>17.540001</td>\n",
       "      <td>23.889999</td>\n",
       "      <td>23.889999</td>\n",
       "      <td>18766300</td>\n",
       "      <td>NaN</td>\n",
       "    </tr>\n",
       "    <tr>\n",
       "      <th>2010-06-30</th>\n",
       "      <td>25.790001</td>\n",
       "      <td>30.42</td>\n",
       "      <td>23.299999</td>\n",
       "      <td>23.830000</td>\n",
       "      <td>23.830000</td>\n",
       "      <td>17187100</td>\n",
       "      <td>NaN</td>\n",
       "    </tr>\n",
       "    <tr>\n",
       "      <th>2010-07-01</th>\n",
       "      <td>25.000000</td>\n",
       "      <td>25.92</td>\n",
       "      <td>20.270000</td>\n",
       "      <td>21.959999</td>\n",
       "      <td>21.959999</td>\n",
       "      <td>8218800</td>\n",
       "      <td>NaN</td>\n",
       "    </tr>\n",
       "    <tr>\n",
       "      <th>2010-07-02</th>\n",
       "      <td>23.000000</td>\n",
       "      <td>23.10</td>\n",
       "      <td>18.709999</td>\n",
       "      <td>19.200001</td>\n",
       "      <td>19.200001</td>\n",
       "      <td>5139800</td>\n",
       "      <td>NaN</td>\n",
       "    </tr>\n",
       "    <tr>\n",
       "      <th>2010-07-06</th>\n",
       "      <td>20.000000</td>\n",
       "      <td>20.00</td>\n",
       "      <td>15.830000</td>\n",
       "      <td>16.110001</td>\n",
       "      <td>16.110001</td>\n",
       "      <td>6866900</td>\n",
       "      <td>NaN</td>\n",
       "    </tr>\n",
       "  </tbody>\n",
       "</table>\n",
       "</div>"
      ],
      "text/plain": [
       "                 Open   High        Low      Close  Adj Close    Volume  100ma\n",
       "Date                                                                          \n",
       "2010-06-29  19.000000  25.00  17.540001  23.889999  23.889999  18766300    NaN\n",
       "2010-06-30  25.790001  30.42  23.299999  23.830000  23.830000  17187100    NaN\n",
       "2010-07-01  25.000000  25.92  20.270000  21.959999  21.959999   8218800    NaN\n",
       "2010-07-02  23.000000  23.10  18.709999  19.200001  19.200001   5139800    NaN\n",
       "2010-07-06  20.000000  20.00  15.830000  16.110001  16.110001   6866900    NaN"
      ]
     },
     "execution_count": 4,
     "metadata": {},
     "output_type": "execute_result"
    }
   ],
   "source": [
    "#Fist 100 data point would be NaN\n",
    "df.head()"
   ]
  },
  {
   "cell_type": "code",
   "execution_count": 5,
   "metadata": {},
   "outputs": [
    {
     "data": {
      "text/html": [
       "<div>\n",
       "<style>\n",
       "    .dataframe thead tr:only-child th {\n",
       "        text-align: right;\n",
       "    }\n",
       "\n",
       "    .dataframe thead th {\n",
       "        text-align: left;\n",
       "    }\n",
       "\n",
       "    .dataframe tbody tr th {\n",
       "        vertical-align: top;\n",
       "    }\n",
       "</style>\n",
       "<table border=\"1\" class=\"dataframe\">\n",
       "  <thead>\n",
       "    <tr style=\"text-align: right;\">\n",
       "      <th></th>\n",
       "      <th>Open</th>\n",
       "      <th>High</th>\n",
       "      <th>Low</th>\n",
       "      <th>Close</th>\n",
       "      <th>Adj Close</th>\n",
       "      <th>Volume</th>\n",
       "      <th>100ma</th>\n",
       "    </tr>\n",
       "    <tr>\n",
       "      <th>Date</th>\n",
       "      <th></th>\n",
       "      <th></th>\n",
       "      <th></th>\n",
       "      <th></th>\n",
       "      <th></th>\n",
       "      <th></th>\n",
       "      <th></th>\n",
       "    </tr>\n",
       "  </thead>\n",
       "  <tbody>\n",
       "    <tr>\n",
       "      <th>2017-11-06</th>\n",
       "      <td>307.000000</td>\n",
       "      <td>307.500000</td>\n",
       "      <td>299.010010</td>\n",
       "      <td>302.779999</td>\n",
       "      <td>302.779999</td>\n",
       "      <td>6486000</td>\n",
       "      <td>347.049698</td>\n",
       "    </tr>\n",
       "    <tr>\n",
       "      <th>2017-11-07</th>\n",
       "      <td>301.019989</td>\n",
       "      <td>306.500000</td>\n",
       "      <td>300.029999</td>\n",
       "      <td>306.049988</td>\n",
       "      <td>306.049988</td>\n",
       "      <td>5294300</td>\n",
       "      <td>346.396198</td>\n",
       "    </tr>\n",
       "    <tr>\n",
       "      <th>2017-11-08</th>\n",
       "      <td>305.500000</td>\n",
       "      <td>306.890015</td>\n",
       "      <td>301.299988</td>\n",
       "      <td>304.390015</td>\n",
       "      <td>304.390015</td>\n",
       "      <td>4725300</td>\n",
       "      <td>345.742099</td>\n",
       "    </tr>\n",
       "    <tr>\n",
       "      <th>2017-11-09</th>\n",
       "      <td>302.500000</td>\n",
       "      <td>304.459991</td>\n",
       "      <td>296.299988</td>\n",
       "      <td>302.989990</td>\n",
       "      <td>302.989990</td>\n",
       "      <td>5447100</td>\n",
       "      <td>345.049599</td>\n",
       "    </tr>\n",
       "    <tr>\n",
       "      <th>2017-11-10</th>\n",
       "      <td>302.500000</td>\n",
       "      <td>308.359985</td>\n",
       "      <td>301.850006</td>\n",
       "      <td>302.989990</td>\n",
       "      <td>302.989990</td>\n",
       "      <td>4617200</td>\n",
       "      <td>344.315499</td>\n",
       "    </tr>\n",
       "  </tbody>\n",
       "</table>\n",
       "</div>"
      ],
      "text/plain": [
       "                  Open        High         Low       Close   Adj Close  \\\n",
       "Date                                                                     \n",
       "2017-11-06  307.000000  307.500000  299.010010  302.779999  302.779999   \n",
       "2017-11-07  301.019989  306.500000  300.029999  306.049988  306.049988   \n",
       "2017-11-08  305.500000  306.890015  301.299988  304.390015  304.390015   \n",
       "2017-11-09  302.500000  304.459991  296.299988  302.989990  302.989990   \n",
       "2017-11-10  302.500000  308.359985  301.850006  302.989990  302.989990   \n",
       "\n",
       "             Volume       100ma  \n",
       "Date                             \n",
       "2017-11-06  6486000  347.049698  \n",
       "2017-11-07  5294300  346.396198  \n",
       "2017-11-08  4725300  345.742099  \n",
       "2017-11-09  5447100  345.049599  \n",
       "2017-11-10  4617200  344.315499  "
      ]
     },
     "execution_count": 5,
     "metadata": {},
     "output_type": "execute_result"
    }
   ],
   "source": [
    "df.tail()"
   ]
  },
  {
   "cell_type": "markdown",
   "metadata": {},
   "source": [
    "#### Can drop rows with Nan (no MA)"
   ]
  },
  {
   "cell_type": "code",
   "execution_count": 6,
   "metadata": {},
   "outputs": [
    {
     "data": {
      "text/html": [
       "<div>\n",
       "<style>\n",
       "    .dataframe thead tr:only-child th {\n",
       "        text-align: right;\n",
       "    }\n",
       "\n",
       "    .dataframe thead th {\n",
       "        text-align: left;\n",
       "    }\n",
       "\n",
       "    .dataframe tbody tr th {\n",
       "        vertical-align: top;\n",
       "    }\n",
       "</style>\n",
       "<table border=\"1\" class=\"dataframe\">\n",
       "  <thead>\n",
       "    <tr style=\"text-align: right;\">\n",
       "      <th></th>\n",
       "      <th>Open</th>\n",
       "      <th>High</th>\n",
       "      <th>Low</th>\n",
       "      <th>Close</th>\n",
       "      <th>Adj Close</th>\n",
       "      <th>Volume</th>\n",
       "      <th>100ma</th>\n",
       "    </tr>\n",
       "    <tr>\n",
       "      <th>Date</th>\n",
       "      <th></th>\n",
       "      <th></th>\n",
       "      <th></th>\n",
       "      <th></th>\n",
       "      <th></th>\n",
       "      <th></th>\n",
       "      <th></th>\n",
       "    </tr>\n",
       "  </thead>\n",
       "  <tbody>\n",
       "    <tr>\n",
       "      <th>2010-11-17</th>\n",
       "      <td>30.200001</td>\n",
       "      <td>30.750000</td>\n",
       "      <td>28.610001</td>\n",
       "      <td>29.490000</td>\n",
       "      <td>29.490000</td>\n",
       "      <td>750000</td>\n",
       "      <td>20.9879</td>\n",
       "    </tr>\n",
       "    <tr>\n",
       "      <th>2010-11-18</th>\n",
       "      <td>30.670000</td>\n",
       "      <td>30.740000</td>\n",
       "      <td>28.920000</td>\n",
       "      <td>29.889999</td>\n",
       "      <td>29.889999</td>\n",
       "      <td>956100</td>\n",
       "      <td>21.0479</td>\n",
       "    </tr>\n",
       "    <tr>\n",
       "      <th>2010-11-19</th>\n",
       "      <td>30.160000</td>\n",
       "      <td>31.370001</td>\n",
       "      <td>29.700001</td>\n",
       "      <td>30.990000</td>\n",
       "      <td>30.990000</td>\n",
       "      <td>1150500</td>\n",
       "      <td>21.1195</td>\n",
       "    </tr>\n",
       "    <tr>\n",
       "      <th>2010-11-22</th>\n",
       "      <td>31.570000</td>\n",
       "      <td>33.450001</td>\n",
       "      <td>31.500000</td>\n",
       "      <td>33.400002</td>\n",
       "      <td>33.400002</td>\n",
       "      <td>1529700</td>\n",
       "      <td>21.2339</td>\n",
       "    </tr>\n",
       "    <tr>\n",
       "      <th>2010-11-23</th>\n",
       "      <td>33.290001</td>\n",
       "      <td>35.680000</td>\n",
       "      <td>32.189999</td>\n",
       "      <td>34.570000</td>\n",
       "      <td>34.570000</td>\n",
       "      <td>1577800</td>\n",
       "      <td>21.3876</td>\n",
       "    </tr>\n",
       "  </tbody>\n",
       "</table>\n",
       "</div>"
      ],
      "text/plain": [
       "                 Open       High        Low      Close  Adj Close   Volume  \\\n",
       "Date                                                                         \n",
       "2010-11-17  30.200001  30.750000  28.610001  29.490000  29.490000   750000   \n",
       "2010-11-18  30.670000  30.740000  28.920000  29.889999  29.889999   956100   \n",
       "2010-11-19  30.160000  31.370001  29.700001  30.990000  30.990000  1150500   \n",
       "2010-11-22  31.570000  33.450001  31.500000  33.400002  33.400002  1529700   \n",
       "2010-11-23  33.290001  35.680000  32.189999  34.570000  34.570000  1577800   \n",
       "\n",
       "              100ma  \n",
       "Date                 \n",
       "2010-11-17  20.9879  \n",
       "2010-11-18  21.0479  \n",
       "2010-11-19  21.1195  \n",
       "2010-11-22  21.2339  \n",
       "2010-11-23  21.3876  "
      ]
     },
     "execution_count": 6,
     "metadata": {},
     "output_type": "execute_result"
    }
   ],
   "source": [
    "df.dropna(inplace=True) #Same as: df = df.dropna\n",
    "df.head()"
   ]
  },
  {
   "cell_type": "markdown",
   "metadata": {},
   "source": [
    "#### Save new df with Moving Average as a csv file "
   ]
  },
  {
   "cell_type": "code",
   "execution_count": 7,
   "metadata": {
    "collapsed": true
   },
   "outputs": [],
   "source": [
    "df.to_csv('tsla2.csv')"
   ]
  },
  {
   "cell_type": "markdown",
   "metadata": {},
   "source": [
    "## Plot new data with matplotlib:\n",
    "- Using subplots, 6rows x 1column\n",
    "- 2 main graphs:\n",
    "    - Adj Close and 100ma on one graph (5rows x 1column)\n",
    "    - Volume on second graph (1row x 1column)"
   ]
  },
  {
   "cell_type": "code",
   "execution_count": 8,
   "metadata": {},
   "outputs": [
    {
     "data": {
      "image/png": "[encoded data removed]",
      "text/plain": [
       "<matplotlib.figure.Figure at 0x7f6b183a6390>"
      ]
     },
     "metadata": {},
     "output_type": "display_data"
    }
   ],
   "source": [
    "ax1 = plt.subplot2grid((6,1), (0,0), rowspan=5, colspan=1)\n",
    "ax2 = plt.subplot2grid((6,1), (5,0), rowspan=1, colspan=1, sharex=ax1) \n",
    "#sharex=ax1 - zooming in on one plots, zooms the other\n",
    "\n",
    "ax1.plot(df.index, df['Adj Close'])\n",
    "ax1.plot(df.index, df['100ma'])\n",
    "ax2.bar(df.index, df['Volume'])\n",
    "\n",
    "plt.show()"
   ]
  },
  {
   "cell_type": "markdown",
   "metadata": {},
   "source": [
    "#### Switch to interactive plot"
   ]
  },
  {
   "cell_type": "code",
   "execution_count": 10,
   "metadata": {},
   "outputs": [
    {
     "name": "stdout",
     "output_type": "stream",
     "text": [
      "Using matplotlib backend: Qt5Agg\n"
     ]
    }
   ],
   "source": [
    "%matplotlib\n",
    "\n",
    "ax1 = plt.subplot2grid((6,1), (0,0), rowspan=5, colspan=1)\n",
    "ax2 = plt.subplot2grid((6,1), (5,0), rowspan=1, colspan=1, sharex=ax1) \n",
    "#sharex=ax1 - zooming in on one plots, zooms the other\n",
    "\n",
    "ax1.plot(df.index, df['Adj Close'])\n",
    "ax1.plot(df.index, df['100ma'])\n",
    "ax2.bar(df.index, df['Volume'])\n",
    "\n",
    "plt.show()"
   ]
  }
 ],
 "metadata": {
  "kernelspec": {
   "display_name": "Python 3",
   "language": "python",
   "name": "python3"
  },
  "language_info": {
   "codemirror_mode": {
    "name": "ipython",
    "version": 3
   },
   "file_extension": ".py",
   "mimetype": "text/x-python",
   "name": "python",
   "nbconvert_exporter": "python",
   "pygments_lexer": "ipython3",
   "version": "3.6.2"
  }
 },
 "nbformat": 4,
 "nbformat_minor": 2
}
