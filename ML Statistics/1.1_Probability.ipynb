{
 "cells": [
  {
   "cell_type": "markdown",
   "metadata": {},
   "source": [
    "# Probability Theory"
   ]
  },
  {
   "cell_type": "markdown",
   "metadata": {},
   "source": [
    "## Sets Theory:\n",
    "- The set of outcomes S of an experiment is the set of all possible outcomes of the experiment\n",
    "- $S \\cup T$: the Unioin of S and/or T\n",
    "- $S \\cap T$: the Intercesction of S and T\n",
    "- $T \\subset S$: T is the Subset of S\n",
    "- $S \\cup T^c$: Disjoin"
   ]
  },
  {
   "cell_type": "markdown",
   "metadata": {},
   "source": [
    "### Example: Deck of 52 cards (Sample Space S):\n",
    "- A is an Ace card = Subset A\n",
    "- B is a Heart Card = subset B\n",
    "- Intercect of A and B ($A \\cap B$) is Ace of Hearts\n",
    "- Union of A and B ($A \\cup B$) is either Ace or Heart"
   ]
  },
  {
   "cell_type": "markdown",
   "metadata": {},
   "source": [
    "## Definition of Probability:\n",
    "- Naive definition of Probability of A: $P(A) = \\frac{|A|}{|S|}$ \n",
    "- Example: Which is a more likely sum of two dice: 11 or 12?\n",
    "    - 11 -> (5,6) (6,5)\n",
    "    - 12 -> (6,6)\n",
    "    - 11 is twice as likely"
   ]
  },
  {
   "cell_type": "markdown",
   "metadata": {},
   "source": [
    "## General Definition of Probability:\n",
    "- $0 \\leq P(A) \\leq 1$\n",
    "- Probability of an event is always positive $ P(A) \\geq 0$\n",
    "- If two events exclude eachother, then $P(A or B) = P(A) + P(B)$\n",
    "- Probability that an event will happen and that it will not happen: $P(A or not A) = P(A) + P(not A) = 1$"
   ]
  },
  {
   "cell_type": "markdown",
   "metadata": {},
   "source": [
    "---"
   ]
  },
  {
   "cell_type": "markdown",
   "metadata": {},
   "source": [
    "# Probability Functions"
   ]
  },
  {
   "cell_type": "code",
   "execution_count": null,
   "metadata": {},
   "outputs": [],
   "source": []
  }
 ],
 "metadata": {
  "kernelspec": {
   "display_name": "Python 3",
   "language": "python",
   "name": "python3"
  },
  "language_info": {
   "codemirror_mode": {
    "name": "ipython",
    "version": 3
   },
   "file_extension": ".py",
   "mimetype": "text/x-python",
   "name": "python",
   "nbconvert_exporter": "python",
   "pygments_lexer": "ipython3",
   "version": "3.7.6"
  }
 },
 "nbformat": 4,
 "nbformat_minor": 4
}
