{
 "cells": [
  {
   "cell_type": "markdown",
   "metadata": {},
   "source": [
    "# Singular Value Decomposition: SVD"
   ]
  },
  {
   "cell_type": "markdown",
   "metadata": {},
   "source": [
    "## $$A = U \\Sigma V^T$$"
   ]
  },
  {
   "cell_type": "code",
   "execution_count": 1,
   "metadata": {},
   "outputs": [],
   "source": [
    "import numpy as np\n",
    "from scipy import linalg"
   ]
  },
  {
   "cell_type": "markdown",
   "metadata": {},
   "source": [
    "### Using NumPy built-in *svd* function"
   ]
  },
  {
   "cell_type": "code",
   "execution_count": 2,
   "metadata": {},
   "outputs": [],
   "source": [
    "def builtin_svd(A):\n",
    "    \n",
    "    # Get the shape of a passed in Matrix A\n",
    "    m,n = A.shape\n",
    "    \n",
    "    # Compute SVD,and convert array of singular values into a Matrix\n",
    "    U,s,Vh = np.linalg.svd(A)\n",
    "    S = linalg.diagsvd(s,m,n)\n",
    "    \n",
    "    return U, S, Vh"
   ]
  },
  {
   "cell_type": "markdown",
   "metadata": {},
   "source": [
    "---"
   ]
  },
  {
   "cell_type": "markdown",
   "metadata": {},
   "source": [
    "### Reconstruct SVD based on the following:\n",
    "- $U$ - left singular vectors of Matrix $A$: set of orthonormal eigenvectors of $AA^T$\n",
    "- $V^T$ - right singular vectors of Matrix $A$: set of orthonormal eigenvectors of $A^TA$\n",
    "- $\\Sigma$ - diagonal non-zero singular values of $A$: square roots of the non-zero eigenvalues of $AA^T$ or $A^TA$"
   ]
  },
  {
   "cell_type": "code",
   "execution_count": 64,
   "metadata": {},
   "outputs": [],
   "source": [
    "def manual_svd(A):\n",
    "    \n",
    "    # Get the shape of a passed in Matrix A\n",
    "    m,n = A.shape\n",
    "    \n",
    "    # Find V: right singular vector\n",
    "    AA_t = np.dot(A.T, A)\n",
    "    V_la, V = np.linalg.eig(AA_t)\n",
    "    Vh = V.T\n",
    "    \n",
    "    # Find Sigma by sorting eigenvalues in descending order and taking square root\n",
    "    V_la[::-1].sort()\n",
    "    sig = np.sqrt(V_la)\n",
    "    S = linalg.diagsvd(sig, m, n)\n",
    "    \n",
    "    # Find U: left singular vector\n",
    "    A_tA = np.dot(A,A.T)\n",
    "    U_la, U = np.linalg.eig(A_tA)\n",
    "    \n",
    "    return U, S, Vh"
   ]
  },
  {
   "cell_type": "markdown",
   "metadata": {},
   "source": [
    "---"
   ]
  },
  {
   "cell_type": "code",
   "execution_count": 78,
   "metadata": {},
   "outputs": [
    {
     "data": {
      "text/plain": [
       "array([[ 1,  0],\n",
       "       [ 0,  1],\n",
       "       [-1,  0]])"
      ]
     },
     "execution_count": 78,
     "metadata": {},
     "output_type": "execute_result"
    }
   ],
   "source": [
    "# Matrix A\n",
    "A = np.array([[1,0], [0,1], [-1,0]])\n",
    "A"
   ]
  },
  {
   "cell_type": "markdown",
   "metadata": {},
   "source": [
    "#### Check using built-in SVD "
   ]
  },
  {
   "cell_type": "code",
   "execution_count": 79,
   "metadata": {},
   "outputs": [
    {
     "data": {
      "text/plain": [
       "(array([[-0.70710678,  0.        ,  0.70710678],\n",
       "        [ 0.        ,  1.        ,  0.        ],\n",
       "        [ 0.70710678,  0.        ,  0.70710678]]),\n",
       " array([[1.41421356, 0.        ],\n",
       "        [0.        , 1.        ],\n",
       "        [0.        , 0.        ]]),\n",
       " array([[-1., -0.],\n",
       "        [ 0.,  1.]]))"
      ]
     },
     "execution_count": 79,
     "metadata": {},
     "output_type": "execute_result"
    }
   ],
   "source": [
    "U,S,Vh = builtin_svd(A)\n",
    "U,S,Vh"
   ]
  },
  {
   "cell_type": "code",
   "execution_count": 80,
   "metadata": {},
   "outputs": [
    {
     "data": {
      "text/plain": [
       "array([[ 1.,  0.],\n",
       "       [ 0.,  1.],\n",
       "       [-1.,  0.]])"
      ]
     },
     "execution_count": 80,
     "metadata": {},
     "output_type": "execute_result"
    }
   ],
   "source": [
    "# Check for A\n",
    "np.dot(U, np.dot(S,Vh))"
   ]
  },
  {
   "cell_type": "markdown",
   "metadata": {},
   "source": [
    "#### Check with munual SVD"
   ]
  },
  {
   "cell_type": "code",
   "execution_count": 81,
   "metadata": {},
   "outputs": [
    {
     "data": {
      "text/plain": [
       "(array([[ 0.70710678,  0.70710678,  0.        ],\n",
       "        [ 0.        ,  0.        ,  1.        ],\n",
       "        [-0.70710678,  0.70710678,  0.        ]]),\n",
       " array([[1.41421356, 0.        ],\n",
       "        [0.        , 1.        ],\n",
       "        [0.        , 0.        ]]),\n",
       " array([[1., 0.],\n",
       "        [0., 1.]]))"
      ]
     },
     "execution_count": 81,
     "metadata": {},
     "output_type": "execute_result"
    }
   ],
   "source": [
    "U,S,Vh = manual_svd(A)\n",
    "U,S,Vh"
   ]
  },
  {
   "cell_type": "code",
   "execution_count": 82,
   "metadata": {},
   "outputs": [
    {
     "data": {
      "text/plain": [
       "array([[ 1.        ,  0.70710678],\n",
       "       [ 0.        ,  0.        ],\n",
       "       [-1.        ,  0.70710678]])"
      ]
     },
     "execution_count": 82,
     "metadata": {},
     "output_type": "execute_result"
    }
   ],
   "source": [
    "# Check for A\n",
    "np.dot(U, np.dot(S,Vh))"
   ]
  },
  {
   "cell_type": "code",
   "execution_count": 83,
   "metadata": {},
   "outputs": [
    {
     "data": {
      "text/plain": [
       "(array([[-0.70710678,  0.        ,  0.70710678],\n",
       "        [ 0.        ,  1.        ,  0.        ],\n",
       "        [ 0.70710678,  0.        ,  0.70710678]]),\n",
       " array([1.41421356, 1.        ]),\n",
       " array([[-1., -0.],\n",
       "        [ 0.,  1.]]))"
      ]
     },
     "execution_count": 83,
     "metadata": {},
     "output_type": "execute_result"
    }
   ],
   "source": [
    "U,s,Vh = np.linalg.svd(A)\n",
    "U,s,Vh"
   ]
  },
  {
   "cell_type": "markdown",
   "metadata": {},
   "source": [
    "---"
   ]
  }
 ],
 "metadata": {
  "kernelspec": {
   "display_name": "Python 3",
   "language": "python",
   "name": "python3"
  },
  "language_info": {
   "codemirror_mode": {
    "name": "ipython",
    "version": 3
   },
   "file_extension": ".py",
   "mimetype": "text/x-python",
   "name": "python",
   "nbconvert_exporter": "python",
   "pygments_lexer": "ipython3",
   "version": "3.7.6"
  }
 },
 "nbformat": 4,
 "nbformat_minor": 4
}
