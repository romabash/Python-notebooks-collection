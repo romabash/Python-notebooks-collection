{
 "cells": [
  {
   "cell_type": "markdown",
   "metadata": {},
   "source": [
    "# Vector Spaces"
   ]
  },
  {
   "cell_type": "code",
   "execution_count": 2,
   "metadata": {},
   "outputs": [],
   "source": [
    "import numpy as np\n",
    "from scipy import linalg\n",
    "from sympy import * "
   ]
  },
  {
   "cell_type": "markdown",
   "metadata": {},
   "source": [
    "### Subspaces\n",
    "- Find dimensions of 4 subspaces if Null space of a 2x3 Matrix: $$A \\begin{bmatrix}1 & 0 & 0 \\\\ 0 & 1 & 0\\end{bmatrix} = 1$$"
   ]
  },
  {
   "cell_type": "code",
   "execution_count": 3,
   "metadata": {},
   "outputs": [
    {
     "data": {
      "text/plain": [
       "array([[1, 0, 0],\n",
       "       [0, 1, 0]])"
      ]
     },
     "execution_count": 3,
     "metadata": {},
     "output_type": "execute_result"
    }
   ],
   "source": [
    "# 2x3 Matrix\n",
    "A = np.array([[1,0,0], [0,1,0]])\n",
    "A"
   ]
  },
  {
   "cell_type": "code",
   "execution_count": 4,
   "metadata": {},
   "outputs": [
    {
     "data": {
      "text/plain": [
       "2"
      ]
     },
     "execution_count": 4,
     "metadata": {},
     "output_type": "execute_result"
    }
   ],
   "source": [
    "# Column space dimension = Rank of Matrix A = 2\n",
    "np.linalg.matrix_rank(A)"
   ]
  },
  {
   "cell_type": "code",
   "execution_count": 5,
   "metadata": {},
   "outputs": [
    {
     "data": {
      "text/plain": [
       "array([[0.],\n",
       "       [0.],\n",
       "       [1.]])"
      ]
     },
     "execution_count": 5,
     "metadata": {},
     "output_type": "execute_result"
    }
   ],
   "source": [
    "# Null space dimension of N(A) = n – r = 3 - 2 = 1\n",
    "linalg.null_space(A)"
   ]
  },
  {
   "cell_type": "code",
   "execution_count": 6,
   "metadata": {},
   "outputs": [
    {
     "data": {
      "text/plain": [
       "2"
      ]
     },
     "execution_count": 6,
     "metadata": {},
     "output_type": "execute_result"
    }
   ],
   "source": [
    "# Row space dimension = Column space of Transpose(A) = r = 2\n",
    "np.linalg.matrix_rank(A.transpose())"
   ]
  },
  {
   "cell_type": "code",
   "execution_count": 7,
   "metadata": {},
   "outputs": [
    {
     "data": {
      "text/plain": [
       "array([], shape=(2, 0), dtype=float64)"
      ]
     },
     "execution_count": 7,
     "metadata": {},
     "output_type": "execute_result"
    }
   ],
   "source": [
    "# Left Null space = Null space of Transpose(A) = m - r = 2 – 2 = 0\n",
    "linalg.null_space(A.transpose())"
   ]
  },
  {
   "cell_type": "markdown",
   "metadata": {},
   "source": [
    "---"
   ]
  },
  {
   "cell_type": "markdown",
   "metadata": {},
   "source": [
    "### Null Space\n",
    "- Find out if Vectors $u \\begin{bmatrix}-3 \\\\ 1 \\\\ 1\\end{bmatrix}$ and $v \\begin{bmatrix}-2 \\\\ 1 \\\\ 0\\end{bmatrix}$  are in the Null space of a Matrix $\\begin{bmatrix}1 & 2 & 1 \\\\ 3 & 6 & 4\\end{bmatrix}$"
   ]
  },
  {
   "cell_type": "code",
   "execution_count": 8,
   "metadata": {},
   "outputs": [],
   "source": [
    "import numpy as np\n",
    "from scipy import linalg"
   ]
  },
  {
   "cell_type": "code",
   "execution_count": 9,
   "metadata": {},
   "outputs": [],
   "source": [
    "# Are Vectors u and v in Null Space of Matrix A, Null(A)?\n",
    "A = np.array([[1,2,1], [3,6,4]])\n",
    "u = np.array([-3,1,1])\n",
    "v = np.array([-2,1,0])"
   ]
  },
  {
   "cell_type": "code",
   "execution_count": 10,
   "metadata": {},
   "outputs": [
    {
     "data": {
      "text/plain": [
       "array([0, 1])"
      ]
     },
     "execution_count": 10,
     "metadata": {},
     "output_type": "execute_result"
    }
   ],
   "source": [
    "# For a Vector to be in Null(A), Ax=0\n",
    "np.dot(A,u)"
   ]
  },
  {
   "cell_type": "code",
   "execution_count": 11,
   "metadata": {},
   "outputs": [
    {
     "data": {
      "text/plain": [
       "array([0, 0])"
      ]
     },
     "execution_count": 11,
     "metadata": {},
     "output_type": "execute_result"
    }
   ],
   "source": [
    "# For a Vector to be in Null(A), Ax=0\n",
    "np.dot(A,v)"
   ]
  },
  {
   "cell_type": "markdown",
   "metadata": {},
   "source": [
    "- $A \\cdot v = 0$, Vector $v$ is in the Null space of $A$\n",
    "- $A \\cdot u \\neq 0$, Vector $u$ is not in the Null space of $A$"
   ]
  },
  {
   "cell_type": "markdown",
   "metadata": {},
   "source": [
    "---"
   ]
  },
  {
   "cell_type": "markdown",
   "metadata": {},
   "source": [
    "### Column Space\n",
    "- Find out if Vectors $a \\begin{bmatrix}2 \\\\ 3 \\\\ -7 \\\\ 3 \\end{bmatrix}$ , $b \\begin{bmatrix} 0 \\\\ 0 \\\\ 0\\\\ 0 \\end{bmatrix}$ , $ c \\begin{bmatrix} 1 \\\\ 1 \\\\ 1 \\\\ 1 \\end{bmatrix}$ are in the Column Span of a Matrix $ A \\begin{bmatrix}2 & 3 & -1 \\\\ 1 & -1 & 0 \\\\ 0 & 5 & 2 \\\\ 3 & 2 & 1 \\end{bmatrix}$"
   ]
  },
  {
   "cell_type": "code",
   "execution_count": 12,
   "metadata": {},
   "outputs": [],
   "source": [
    "A = np.array([[2,3,-1], [1,-1,0],[0,5,2],[3,2,1]])\n",
    "a = np.array([2,3,-7,3])\n",
    "b = np.array([0,0,0,0])\n",
    "c = np.array([1,1,1,1])"
   ]
  },
  {
   "cell_type": "markdown",
   "metadata": {},
   "source": [
    "- Vector $a$ is in the range if and only if there exists some Vector $x$ such that $A \\cdot x = a$\n",
    "- To find $x$, solve linear system\n",
    "- Can't solve with np.linalg.solve(A, c), since Matrix $A$ is not square.  \n",
    "- Solve by getting RREF using SymPy"
   ]
  },
  {
   "cell_type": "code",
   "execution_count": 13,
   "metadata": {},
   "outputs": [
    {
     "data": {
      "text/plain": [
       "(Matrix([\n",
       " [1, 0, 0,  2],\n",
       " [0, 1, 0, -1],\n",
       " [0, 0, 1, -1],\n",
       " [0, 0, 0,  0]]),\n",
       " (0, 1, 2))"
      ]
     },
     "execution_count": 13,
     "metadata": {},
     "output_type": "execute_result"
    }
   ],
   "source": [
    "# Add the vector to Matrix A and use sympy.rref() method to calculate RREF\n",
    "Aa_rref = Matrix(np.append(A,a.reshape(4,1), axis=1)).rref()  \n",
    "Aa_rref"
   ]
  },
  {
   "cell_type": "code",
   "execution_count": 14,
   "metadata": {},
   "outputs": [
    {
     "data": {
      "text/plain": [
       "(Matrix([\n",
       " [1, 0, 0, 0],\n",
       " [0, 1, 0, 0],\n",
       " [0, 0, 1, 0],\n",
       " [0, 0, 0, 0]]),\n",
       " (0, 1, 2))"
      ]
     },
     "execution_count": 14,
     "metadata": {},
     "output_type": "execute_result"
    }
   ],
   "source": [
    "# Add the vector to Matrix A and use sympy.rref() method to calculate RREF\n",
    "Ab_rref = Matrix(np.append(A,b.reshape(4,1), axis=1)).rref()  \n",
    "Ab_rref"
   ]
  },
  {
   "cell_type": "code",
   "execution_count": 15,
   "metadata": {},
   "outputs": [
    {
     "data": {
      "text/plain": [
       "(Matrix([\n",
       " [1, 0, 0, 0],\n",
       " [0, 1, 0, 0],\n",
       " [0, 0, 1, 0],\n",
       " [0, 0, 0, 1]]),\n",
       " (0, 1, 2, 3))"
      ]
     },
     "execution_count": 15,
     "metadata": {},
     "output_type": "execute_result"
    }
   ],
   "source": [
    "# Add the vector to Matrix A and use sympy.rref() method to calculate RREF\n",
    "Ac_rref = Matrix(np.append(A,c.reshape(4,1), axis=1)).rref()  \n",
    "Ac_rref"
   ]
  },
  {
   "cell_type": "markdown",
   "metadata": {},
   "source": [
    "- Since $0 \\neq 1$, Vector $c$ is not in Column Space of Matrix $A$"
   ]
  },
  {
   "cell_type": "markdown",
   "metadata": {},
   "source": [
    "---"
   ]
  },
  {
   "cell_type": "markdown",
   "metadata": {},
   "source": [
    "### Orthogonal Vectors\n",
    "- Find out if Vectors $u \\begin{bmatrix} -2 \\\\ 3 \\\\ 1 \\\\ 4 \\end{bmatrix}$ , and $ v \\begin{bmatrix} 1 \\\\ 2 \\\\ 0\\\\ -1 \\end{bmatrix}$ are orthogonal in Vector Space"
   ]
  },
  {
   "cell_type": "code",
   "execution_count": 16,
   "metadata": {},
   "outputs": [],
   "source": [
    "u = np.array([-2,3,1,4])\n",
    "v = np.array([1,2,0,-1])"
   ]
  },
  {
   "cell_type": "code",
   "execution_count": 17,
   "metadata": {},
   "outputs": [
    {
     "data": {
      "text/plain": [
       "0"
      ]
     },
     "execution_count": 17,
     "metadata": {},
     "output_type": "execute_result"
    }
   ],
   "source": [
    "# Vectors u and v are orthogonal (or perpendicular) to each other if, u*v = 0\n",
    "np.dot(u,v)"
   ]
  },
  {
   "cell_type": "markdown",
   "metadata": {},
   "source": [
    "- Since the dot product of $u \\cdot v \\neq 0$, vectors are orthogonal"
   ]
  },
  {
   "cell_type": "markdown",
   "metadata": {},
   "source": [
    "---"
   ]
  }
 ],
 "metadata": {
  "kernelspec": {
   "display_name": "Python 3",
   "language": "python",
   "name": "python3"
  },
  "language_info": {
   "codemirror_mode": {
    "name": "ipython",
    "version": 3
   },
   "file_extension": ".py",
   "mimetype": "text/x-python",
   "name": "python",
   "nbconvert_exporter": "python",
   "pygments_lexer": "ipython3",
   "version": "3.7.6"
  }
 },
 "nbformat": 4,
 "nbformat_minor": 2
}
