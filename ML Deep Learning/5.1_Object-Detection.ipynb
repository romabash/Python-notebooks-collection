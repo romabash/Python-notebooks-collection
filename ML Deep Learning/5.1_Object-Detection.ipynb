{
 "cells": [
  {
   "cell_type": "markdown",
   "metadata": {},
   "source": [
    "# Object Detection"
   ]
  },
  {
   "cell_type": "markdown",
   "metadata": {},
   "source": [
    "---"
   ]
  },
  {
   "cell_type": "markdown",
   "metadata": {},
   "source": [
    "## Classification with Localization\n",
    "- Use Convolution Network to classify an image\n",
    "- To **Localize** an image, change Output to include additional information for *box* location: (x,y,h,w)\n",
    "    - x,y is the center of the *box*, and h,w are the height and width of the box\n",
    "    - The whole image dimension being (0,0) at the top left corner, and (1,1) at the bottom right corner \n",
    "- The Target Label Output: $\\begin{bmatrix} p_c \\\\ b_x \\\\ b_y \\\\ b_h \\\\ b_w \\\\ c_1 \\\\ c_2 \\\\ c_n \\end{bmatrix}$\n",
    "- where:\n",
    "    - $p_c$ indictes if there's an object of interest (1 or 0).  When $p_c = 0$ and there is no object, the rest of the outputs are ignored\n",
    "    - $b_x, ..., b_w$ indicates objects *box* location\n",
    "    - $c_1, ..., c_n$ indicates probability of that object"
   ]
  },
  {
   "cell_type": "markdown",
   "metadata": {},
   "source": [
    "## Loss Function Example:\n",
    "- When $p_c = 0$, the **Loss Function** is $(\\hat{y_1} - y_1)^2$\n",
    "- When $p_c = 1$, the **Loss Function** is $(\\hat{y_1} - y_1)^2 + (\\hat{y_2} - y_2)^2 + ... + (\\hat{y_n} - y_n)^2 $"
   ]
  },
  {
   "cell_type": "markdown",
   "metadata": {},
   "source": [
    "---"
   ]
  },
  {
   "cell_type": "markdown",
   "metadata": {},
   "source": [
    "## Sliding Windows Algorithm:\n",
    "- Train a CovNet on a Training Set of closely cropped images to classify an object\n",
    "- Input a **slidding window** of a new image to detect into a trained Network to classify if that cropped part of an image contains an object, until all the regions of the image have been proccessed\n",
    "- Repeat with larger **slidding window**, with hope of capturing an image of interest using one of the windows\n",
    "- High computational cost may be reduced with larger **stride** but can reduce preformance"
   ]
  },
  {
   "cell_type": "markdown",
   "metadata": {},
   "source": [
    "## Improving Sliding Windows Algorithm:\n",
    "- Turn Fully Connected Layers into Convolution Layers:\n",
    "    - Instead of *Flatteing* out a convolution layer into a FC layer, use a Convolution filter of the same size\n",
    "        - 5x5x16 -> 400 FC Layer\n",
    "        - 5x5x16 with 5x5x16 filters x400 -> 1x1x400 Conv Layer \n",
    "    - Use a Convolution Layer as an Output Layer\n",
    "- Run a full *bigger* image to detect through the same Network, instead of multiple runs through with a **sliding window**, with the Convolution Output for each *part*"
   ]
  },
  {
   "cell_type": "markdown",
   "metadata": {},
   "source": [
    "---"
   ]
  },
  {
   "cell_type": "markdown",
   "metadata": {},
   "source": [
    "## YOLO Algorithm - Bounding Box Prediction:\n",
    "- Convolution implementation of **sliding windows** algorthm\n",
    "- Run the image through a Convolution Network, then separate the output into a *Grid* and run the Localization and Classification Algorithm on each grid\n",
    "- Output for each grid: $y = \\begin{bmatrix} p_c \\\\ b_x \\\\ b_y \\\\ b_h \\\\ b_w \\\\ c_1 \\\\ c_2 \\\\ c_n \\end{bmatrix}$\n",
    "- where:\n",
    "    - $p_c$ indictes if there's an object of interest (1 or 0) in that grid.  When $p_c = 0$ and there is no object and the rest of the outputs are ignored\n",
    "    - $b_x, ..., b_w$ indicates objects *box* location relative to the grid \n",
    "    - $c_1, ..., c_n$ indicates probability of an object\n",
    "- The total target output depends on number of grids (nxn) and labels (m): $n \\times n \\times m$"
   ]
  },
  {
   "cell_type": "markdown",
   "metadata": {},
   "source": [
    "## Intersection Over Union:\n",
    "- Estimate how well detection algorithm is working\n",
    "- Compute the Union of Predicted boundry box vs Actual boundry box (Overlap between two boundry boxes)\n",
    "    - Size of Intersection / Size of the Total Union\n",
    "- Bigger IoU means better detection\n",
    "    - Common threshold is set at above 0.5 (can be adjusted)"
   ]
  },
  {
   "cell_type": "markdown",
   "metadata": {},
   "source": [
    "## Non-max Suppression:\n",
    "- Dealing with Multiple detection\n",
    "- Associate probability $p_c$ with each detection and take the largest one\n",
    "    - Discard all predictions with $p_c \\leq 0.6$\n",
    "    - Pick the prediction with largest $p_c$\n",
    "    - Discard all remaining predicitions with IoU $\\geq 0.5$ with the chosen (largest) predicition"
   ]
  },
  {
   "cell_type": "markdown",
   "metadata": {},
   "source": [
    "## Anchor Boxes for Multiple Detection:\n",
    "- Use when midpoint of several objects are at the same point\n",
    "- Use pre-defined anchor box shapes to associate objects to different anchor boxes\n",
    "- Output: $y = \\begin{bmatrix} p_c \\\\ b_x \\\\ b_y \\\\ b_h \\\\ b_w \\\\ c_1 \\\\ c_2 \\\\ c_n \\\\ --- \\\\ p_c \\\\ b_x \\\\ b_y \\\\ b_h \\\\ b_w \\\\ c_1 \\\\ c_2 \\\\ c_n  \\end{bmatrix}$\n",
    "- where each $p_c$ *group* corresponds to each **anchor box**\n",
    "- Output shape with **Grid** (nxn), **Labels** (l), and **Anchor** (a) is: $n \\times n \\times l \\times a$"
   ]
  },
  {
   "cell_type": "markdown",
   "metadata": {},
   "source": [
    "## YOLO Algorithm Example:\n",
    "- Training to detect pedestrian, car, and motorcycle using a 3x3 **Grid** wirh 2 **Anchors** and 8 **Labels**\n",
    "- Output $y$ is: 3x3x8x2"
   ]
  },
  {
   "cell_type": "markdown",
   "metadata": {},
   "source": [
    "---"
   ]
  }
 ],
 "metadata": {
  "kernelspec": {
   "display_name": "Python 3",
   "language": "python",
   "name": "python3"
  },
  "language_info": {
   "codemirror_mode": {
    "name": "ipython",
    "version": 3
   },
   "file_extension": ".py",
   "mimetype": "text/x-python",
   "name": "python",
   "nbconvert_exporter": "python",
   "pygments_lexer": "ipython3",
   "version": "3.7.6"
  }
 },
 "nbformat": 4,
 "nbformat_minor": 4
}
