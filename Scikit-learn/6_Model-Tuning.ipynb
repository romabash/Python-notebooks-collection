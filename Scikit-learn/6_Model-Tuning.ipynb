{
 "cells": [
  {
   "cell_type": "markdown",
   "metadata": {},
   "source": [
    "# Model Parameters Tuning"
   ]
  },
  {
   "cell_type": "markdown",
   "metadata": {},
   "source": [
    "<hr>"
   ]
  },
  {
   "cell_type": "markdown",
   "metadata": {},
   "source": [
    "## Manual Parameter Tuning using *cross_val_score*\n",
    "- Using the **iris** dataset\n",
    "- Using **KNN** Model"
   ]
  },
  {
   "cell_type": "code",
   "execution_count": 19,
   "metadata": {
    "collapsed": true
   },
   "outputs": [],
   "source": [
    "import numpy as np\n",
    "import pandas as pd\n",
    "import matplotlib.pyplot as plt\n",
    "%matplotlib inline\n",
    "\n",
    "from sklearn.datasets import load_iris\n",
    "\n",
    "from sklearn.neighbors import KNeighborsClassifier\n",
    "from sklearn.model_selection import cross_val_score"
   ]
  },
  {
   "cell_type": "code",
   "execution_count": 2,
   "metadata": {
    "collapsed": true
   },
   "outputs": [],
   "source": [
    "# Read in the iris Data\n",
    "iris = load_iris()\n",
    "\n",
    "# Create X (Features) and y (Reponse)\n",
    "X = iris.data\n",
    "y = iris.target"
   ]
  },
  {
   "cell_type": "code",
   "execution_count": 3,
   "metadata": {},
   "outputs": [
    {
     "data": {
      "text/plain": [
       "array([ 1.        ,  0.93333333,  1.        ,  1.        ,  0.86666667,\n",
       "        0.93333333,  0.93333333,  1.        ,  1.        ,  1.        ])"
      ]
     },
     "execution_count": 3,
     "metadata": {},
     "output_type": "execute_result"
    }
   ],
   "source": [
    "# 10-fold CV with KNN = 5\n",
    "knn = KNeighborsClassifier(n_neighbors=5)\n",
    "scores = cross_val_score(knn, X, y, cv=10, scoring='accuracy')\n",
    "scores"
   ]
  },
  {
   "cell_type": "code",
   "execution_count": 4,
   "metadata": {},
   "outputs": [
    {
     "data": {
      "text/plain": [
       "0.96666666666666679"
      ]
     },
     "execution_count": 4,
     "metadata": {},
     "output_type": "execute_result"
    }
   ],
   "source": [
    "# Use Average Accuracy as an estimate of out-of-sample accuracy\n",
    "scores.mean()"
   ]
  },
  {
   "cell_type": "code",
   "execution_count": 5,
   "metadata": {},
   "outputs": [
    {
     "data": {
      "text/plain": [
       "[0.95999999999999996,\n",
       " 0.95333333333333337,\n",
       " 0.96666666666666656,\n",
       " 0.96666666666666656,\n",
       " 0.96666666666666679,\n",
       " 0.96666666666666679,\n",
       " 0.96666666666666679,\n",
       " 0.96666666666666679,\n",
       " 0.97333333333333338,\n",
       " 0.96666666666666679,\n",
       " 0.96666666666666679,\n",
       " 0.97333333333333338,\n",
       " 0.98000000000000009,\n",
       " 0.97333333333333338,\n",
       " 0.97333333333333338,\n",
       " 0.97333333333333338,\n",
       " 0.97333333333333338,\n",
       " 0.98000000000000009,\n",
       " 0.97333333333333338,\n",
       " 0.98000000000000009,\n",
       " 0.96666666666666656,\n",
       " 0.96666666666666656,\n",
       " 0.97333333333333338,\n",
       " 0.95999999999999996,\n",
       " 0.96666666666666656,\n",
       " 0.95999999999999996,\n",
       " 0.96666666666666656,\n",
       " 0.95333333333333337,\n",
       " 0.95333333333333337,\n",
       " 0.95333333333333337]"
      ]
     },
     "execution_count": 5,
     "metadata": {},
     "output_type": "execute_result"
    }
   ],
   "source": [
    "# Search for an optimal value of KNN\n",
    "k_scores = []\n",
    "k_range = range(1,31)\n",
    "for k in k_range:\n",
    "    knn = KNeighborsClassifier(n_neighbors=k)\n",
    "    scores = cross_val_score(estimator=knn, X=X, y=y, cv=10, scoring='accuracy')\n",
    "    k_scores.append(scores.mean())\n",
    "    \n",
    "k_scores"
   ]
  },
  {
   "cell_type": "code",
   "execution_count": 6,
   "metadata": {},
   "outputs": [
    {
     "data": {
      "text/plain": [
       "13"
      ]
     },
     "execution_count": 6,
     "metadata": {},
     "output_type": "execute_result"
    }
   ],
   "source": [
    "# Select the best K, based on highest Accuracy\n",
    "np.array(k_scores).argmax(axis=0) + 1"
   ]
  },
  {
   "cell_type": "code",
   "execution_count": 7,
   "metadata": {},
   "outputs": [
    {
     "data": {
      "text/plain": [
       "<matplotlib.text.Text at 0x7f99493a2668>"
      ]
     },
     "execution_count": 7,
     "metadata": {},
     "output_type": "execute_result"
    },
    {
     "data": {
      "image/png": "[encoded data removed]",
      "text/plain": [
       "<matplotlib.figure.Figure at 0x7f994936d320>"
      ]
     },
     "metadata": {},
     "output_type": "display_data"
    }
   ],
   "source": [
    "# Plot the results\n",
    "# Plot the value of k for KNN on x-axis vs. the cross-validated accuracy on the y-axis\n",
    "plt.plot(k_range, k_scores)\n",
    "plt.xlabel('Value of K for KNN')\n",
    "plt.ylabel('Cross Validated Accuracy')"
   ]
  },
  {
   "cell_type": "markdown",
   "metadata": {},
   "source": [
    "<hr>"
   ]
  },
  {
   "cell_type": "markdown",
   "metadata": {},
   "source": [
    "## Automated Parameter Tuning using *GridSearchCV*"
   ]
  },
  {
   "cell_type": "code",
   "execution_count": 8,
   "metadata": {
    "collapsed": true
   },
   "outputs": [],
   "source": [
    "from sklearn.model_selection import GridSearchCV"
   ]
  },
  {
   "cell_type": "markdown",
   "metadata": {},
   "source": [
    "### 1. Define a **grid of parameters** that will be searched using K-fold Cross-Validation"
   ]
  },
  {
   "cell_type": "code",
   "execution_count": 9,
   "metadata": {},
   "outputs": [
    {
     "name": "stdout",
     "output_type": "stream",
     "text": [
      "{'n_neighbors': [1, 2, 3, 4, 5, 6, 7, 8, 9, 10, 11, 12, 13, 14, 15, 16, 17, 18, 19, 20, 21, 22, 23, 24, 25, 26, 27, 28, 29, 30]}\n"
     ]
    }
   ],
   "source": [
    "# Define a parameter that should be searched\n",
    "k_range = range(1, 31)\n",
    "\n",
    "# Create a dictionary of parameter grid that maps the names to the values that should be searched\n",
    "param_grid = dict(n_neighbors = list(k_range))\n",
    "print(param_grid)"
   ]
  },
  {
   "cell_type": "markdown",
   "metadata": {},
   "source": [
    "### 2. Instantiate the Grid\n",
    "- Creates an *object* ready for **10-fold Cross-Validation**, using **KNN** Model, using **Classification Accuracy** as an evaluation metric, repeated with different K given in the *param_grid*\n",
    "- For Parallel Programming use *n_jobs = -1* to use all CPUs\n",
    "- *n_jobs = -2* all CPUs but one are used"
   ]
  },
  {
   "cell_type": "code",
   "execution_count": 10,
   "metadata": {
    "collapsed": true
   },
   "outputs": [],
   "source": [
    "grid = GridSearchCV(knn, param_grid,cv=10, scoring='accuracy')"
   ]
  },
  {
   "cell_type": "markdown",
   "metadata": {},
   "source": [
    "### 3. Train by Fitting the Grid with Data \n",
    "- Running 10-fold CV, 30 times (for each K)"
   ]
  },
  {
   "cell_type": "code",
   "execution_count": 11,
   "metadata": {},
   "outputs": [
    {
     "data": {
      "text/plain": [
       "GridSearchCV(cv=10, error_score='raise',\n",
       "       estimator=KNeighborsClassifier(algorithm='auto', leaf_size=30, metric='minkowski',\n",
       "           metric_params=None, n_jobs=1, n_neighbors=30, p=2,\n",
       "           weights='uniform'),\n",
       "       fit_params=None, iid=True, n_jobs=1,\n",
       "       param_grid={'n_neighbors': [1, 2, 3, 4, 5, 6, 7, 8, 9, 10, 11, 12, 13, 14, 15, 16, 17, 18, 19, 20, 21, 22, 23, 24, 25, 26, 27, 28, 29, 30]},\n",
       "       pre_dispatch='2*n_jobs', refit=True, return_train_score=True,\n",
       "       scoring='accuracy', verbose=0)"
      ]
     },
     "execution_count": 11,
     "metadata": {},
     "output_type": "execute_result"
    }
   ],
   "source": [
    "# Pass the X and y to the grid.fit\n",
    "grid.fit(X, y)"
   ]
  },
  {
   "cell_type": "markdown",
   "metadata": {},
   "source": [
    "### 4. Examine the Trained Model\n",
    "- The **grid\\_scores\\_**  attribute was deprecated in version 0.18\n",
    "- Use **cv\\_result\\s_** attribute, which returns a dictionary"
   ]
  },
  {
   "cell_type": "code",
   "execution_count": 24,
   "metadata": {},
   "outputs": [
    {
     "data": {
      "text/html": [
       "<div>\n",
       "<style>\n",
       "    .dataframe thead tr:only-child th {\n",
       "        text-align: right;\n",
       "    }\n",
       "\n",
       "    .dataframe thead th {\n",
       "        text-align: left;\n",
       "    }\n",
       "\n",
       "    .dataframe tbody tr th {\n",
       "        vertical-align: top;\n",
       "    }\n",
       "</style>\n",
       "<table border=\"1\" class=\"dataframe\">\n",
       "  <thead>\n",
       "    <tr style=\"text-align: right;\">\n",
       "      <th></th>\n",
       "      <th>mean</th>\n",
       "      <th>params</th>\n",
       "      <th>std</th>\n",
       "    </tr>\n",
       "  </thead>\n",
       "  <tbody>\n",
       "    <tr>\n",
       "      <th>1</th>\n",
       "      <td>0.960000</td>\n",
       "      <td>{'n_neighbors': 1}</td>\n",
       "      <td>0.053333</td>\n",
       "    </tr>\n",
       "    <tr>\n",
       "      <th>2</th>\n",
       "      <td>0.953333</td>\n",
       "      <td>{'n_neighbors': 2}</td>\n",
       "      <td>0.052068</td>\n",
       "    </tr>\n",
       "    <tr>\n",
       "      <th>3</th>\n",
       "      <td>0.966667</td>\n",
       "      <td>{'n_neighbors': 3}</td>\n",
       "      <td>0.044721</td>\n",
       "    </tr>\n",
       "    <tr>\n",
       "      <th>4</th>\n",
       "      <td>0.966667</td>\n",
       "      <td>{'n_neighbors': 4}</td>\n",
       "      <td>0.044721</td>\n",
       "    </tr>\n",
       "    <tr>\n",
       "      <th>5</th>\n",
       "      <td>0.966667</td>\n",
       "      <td>{'n_neighbors': 5}</td>\n",
       "      <td>0.044721</td>\n",
       "    </tr>\n",
       "    <tr>\n",
       "      <th>6</th>\n",
       "      <td>0.966667</td>\n",
       "      <td>{'n_neighbors': 6}</td>\n",
       "      <td>0.044721</td>\n",
       "    </tr>\n",
       "    <tr>\n",
       "      <th>7</th>\n",
       "      <td>0.966667</td>\n",
       "      <td>{'n_neighbors': 7}</td>\n",
       "      <td>0.044721</td>\n",
       "    </tr>\n",
       "    <tr>\n",
       "      <th>8</th>\n",
       "      <td>0.966667</td>\n",
       "      <td>{'n_neighbors': 8}</td>\n",
       "      <td>0.044721</td>\n",
       "    </tr>\n",
       "    <tr>\n",
       "      <th>9</th>\n",
       "      <td>0.973333</td>\n",
       "      <td>{'n_neighbors': 9}</td>\n",
       "      <td>0.032660</td>\n",
       "    </tr>\n",
       "    <tr>\n",
       "      <th>10</th>\n",
       "      <td>0.966667</td>\n",
       "      <td>{'n_neighbors': 10}</td>\n",
       "      <td>0.044721</td>\n",
       "    </tr>\n",
       "    <tr>\n",
       "      <th>11</th>\n",
       "      <td>0.966667</td>\n",
       "      <td>{'n_neighbors': 11}</td>\n",
       "      <td>0.044721</td>\n",
       "    </tr>\n",
       "    <tr>\n",
       "      <th>12</th>\n",
       "      <td>0.973333</td>\n",
       "      <td>{'n_neighbors': 12}</td>\n",
       "      <td>0.032660</td>\n",
       "    </tr>\n",
       "    <tr>\n",
       "      <th>13</th>\n",
       "      <td>0.980000</td>\n",
       "      <td>{'n_neighbors': 13}</td>\n",
       "      <td>0.030551</td>\n",
       "    </tr>\n",
       "    <tr>\n",
       "      <th>14</th>\n",
       "      <td>0.973333</td>\n",
       "      <td>{'n_neighbors': 14}</td>\n",
       "      <td>0.044222</td>\n",
       "    </tr>\n",
       "    <tr>\n",
       "      <th>15</th>\n",
       "      <td>0.973333</td>\n",
       "      <td>{'n_neighbors': 15}</td>\n",
       "      <td>0.032660</td>\n",
       "    </tr>\n",
       "    <tr>\n",
       "      <th>16</th>\n",
       "      <td>0.973333</td>\n",
       "      <td>{'n_neighbors': 16}</td>\n",
       "      <td>0.032660</td>\n",
       "    </tr>\n",
       "    <tr>\n",
       "      <th>17</th>\n",
       "      <td>0.973333</td>\n",
       "      <td>{'n_neighbors': 17}</td>\n",
       "      <td>0.032660</td>\n",
       "    </tr>\n",
       "    <tr>\n",
       "      <th>18</th>\n",
       "      <td>0.980000</td>\n",
       "      <td>{'n_neighbors': 18}</td>\n",
       "      <td>0.030551</td>\n",
       "    </tr>\n",
       "    <tr>\n",
       "      <th>19</th>\n",
       "      <td>0.973333</td>\n",
       "      <td>{'n_neighbors': 19}</td>\n",
       "      <td>0.032660</td>\n",
       "    </tr>\n",
       "    <tr>\n",
       "      <th>20</th>\n",
       "      <td>0.980000</td>\n",
       "      <td>{'n_neighbors': 20}</td>\n",
       "      <td>0.030551</td>\n",
       "    </tr>\n",
       "    <tr>\n",
       "      <th>21</th>\n",
       "      <td>0.966667</td>\n",
       "      <td>{'n_neighbors': 21}</td>\n",
       "      <td>0.033333</td>\n",
       "    </tr>\n",
       "    <tr>\n",
       "      <th>22</th>\n",
       "      <td>0.966667</td>\n",
       "      <td>{'n_neighbors': 22}</td>\n",
       "      <td>0.033333</td>\n",
       "    </tr>\n",
       "    <tr>\n",
       "      <th>23</th>\n",
       "      <td>0.973333</td>\n",
       "      <td>{'n_neighbors': 23}</td>\n",
       "      <td>0.032660</td>\n",
       "    </tr>\n",
       "    <tr>\n",
       "      <th>24</th>\n",
       "      <td>0.960000</td>\n",
       "      <td>{'n_neighbors': 24}</td>\n",
       "      <td>0.044222</td>\n",
       "    </tr>\n",
       "    <tr>\n",
       "      <th>25</th>\n",
       "      <td>0.966667</td>\n",
       "      <td>{'n_neighbors': 25}</td>\n",
       "      <td>0.033333</td>\n",
       "    </tr>\n",
       "    <tr>\n",
       "      <th>26</th>\n",
       "      <td>0.960000</td>\n",
       "      <td>{'n_neighbors': 26}</td>\n",
       "      <td>0.044222</td>\n",
       "    </tr>\n",
       "    <tr>\n",
       "      <th>27</th>\n",
       "      <td>0.966667</td>\n",
       "      <td>{'n_neighbors': 27}</td>\n",
       "      <td>0.044721</td>\n",
       "    </tr>\n",
       "    <tr>\n",
       "      <th>28</th>\n",
       "      <td>0.953333</td>\n",
       "      <td>{'n_neighbors': 28}</td>\n",
       "      <td>0.042687</td>\n",
       "    </tr>\n",
       "    <tr>\n",
       "      <th>29</th>\n",
       "      <td>0.953333</td>\n",
       "      <td>{'n_neighbors': 29}</td>\n",
       "      <td>0.042687</td>\n",
       "    </tr>\n",
       "    <tr>\n",
       "      <th>30</th>\n",
       "      <td>0.953333</td>\n",
       "      <td>{'n_neighbors': 30}</td>\n",
       "      <td>0.042687</td>\n",
       "    </tr>\n",
       "  </tbody>\n",
       "</table>\n",
       "</div>"
      ],
      "text/plain": [
       "        mean               params       std\n",
       "1   0.960000   {'n_neighbors': 1}  0.053333\n",
       "2   0.953333   {'n_neighbors': 2}  0.052068\n",
       "3   0.966667   {'n_neighbors': 3}  0.044721\n",
       "4   0.966667   {'n_neighbors': 4}  0.044721\n",
       "5   0.966667   {'n_neighbors': 5}  0.044721\n",
       "6   0.966667   {'n_neighbors': 6}  0.044721\n",
       "7   0.966667   {'n_neighbors': 7}  0.044721\n",
       "8   0.966667   {'n_neighbors': 8}  0.044721\n",
       "9   0.973333   {'n_neighbors': 9}  0.032660\n",
       "10  0.966667  {'n_neighbors': 10}  0.044721\n",
       "11  0.966667  {'n_neighbors': 11}  0.044721\n",
       "12  0.973333  {'n_neighbors': 12}  0.032660\n",
       "13  0.980000  {'n_neighbors': 13}  0.030551\n",
       "14  0.973333  {'n_neighbors': 14}  0.044222\n",
       "15  0.973333  {'n_neighbors': 15}  0.032660\n",
       "16  0.973333  {'n_neighbors': 16}  0.032660\n",
       "17  0.973333  {'n_neighbors': 17}  0.032660\n",
       "18  0.980000  {'n_neighbors': 18}  0.030551\n",
       "19  0.973333  {'n_neighbors': 19}  0.032660\n",
       "20  0.980000  {'n_neighbors': 20}  0.030551\n",
       "21  0.966667  {'n_neighbors': 21}  0.033333\n",
       "22  0.966667  {'n_neighbors': 22}  0.033333\n",
       "23  0.973333  {'n_neighbors': 23}  0.032660\n",
       "24  0.960000  {'n_neighbors': 24}  0.044222\n",
       "25  0.966667  {'n_neighbors': 25}  0.033333\n",
       "26  0.960000  {'n_neighbors': 26}  0.044222\n",
       "27  0.966667  {'n_neighbors': 27}  0.044721\n",
       "28  0.953333  {'n_neighbors': 28}  0.042687\n",
       "29  0.953333  {'n_neighbors': 29}  0.042687\n",
       "30  0.953333  {'n_neighbors': 30}  0.042687"
      ]
     },
     "execution_count": 24,
     "metadata": {},
     "output_type": "execute_result"
    }
   ],
   "source": [
    "# Look at the results in grid.cv_results_\n",
    "results = {'params': grid.cv_results_['params'],\n",
    "           'mean': grid.cv_results_['mean_test_score'],\n",
    "           'std': grid.cv_results_['std_test_score']}\n",
    "\n",
    "results = pd.DataFrame(results)\n",
    "results.index += 1 \n",
    "results"
   ]
  },
  {
   "cell_type": "markdown",
   "metadata": {},
   "source": [
    "- High std indicates that the Mean of Cross-Validation Accuracy might not be as reliable"
   ]
  },
  {
   "cell_type": "code",
   "execution_count": 25,
   "metadata": {},
   "outputs": [
    {
     "data": {
      "text/plain": [
       "array([ 0.96      ,  0.95333333,  0.96666667,  0.96666667,  0.96666667,\n",
       "        0.96666667,  0.96666667,  0.96666667,  0.97333333,  0.96666667,\n",
       "        0.96666667,  0.97333333,  0.98      ,  0.97333333,  0.97333333,\n",
       "        0.97333333,  0.97333333,  0.98      ,  0.97333333,  0.98      ,\n",
       "        0.96666667,  0.96666667,  0.97333333,  0.96      ,  0.96666667,\n",
       "        0.96      ,  0.96666667,  0.95333333,  0.95333333,  0.95333333])"
      ]
     },
     "execution_count": 25,
     "metadata": {},
     "output_type": "execute_result"
    }
   ],
   "source": [
    "# Create a list of the Mean scores\n",
    "grid_mean_scores = grid.cv_results_['mean_test_score']\n",
    "grid_mean_scores"
   ]
  },
  {
   "cell_type": "code",
   "execution_count": 26,
   "metadata": {},
   "outputs": [
    {
     "data": {
      "text/plain": [
       "<matplotlib.text.Text at 0x7f9943092978>"
      ]
     },
     "execution_count": 26,
     "metadata": {},
     "output_type": "execute_result"
    },
    {
     "data": {
      "image/png": "[encoded data removed]",
      "text/plain": [
       "<matplotlib.figure.Figure at 0x7f99430d8160>"
      ]
     },
     "metadata": {},
     "output_type": "display_data"
    }
   ],
   "source": [
    "# Plot the Results: \n",
    "plt.plot(k_range, grid_mean_scores)\n",
    "plt.xlabel('Value of K for KNN')\n",
    "plt.ylabel('Cross Validated Accuracy')"
   ]
  },
  {
   "cell_type": "code",
   "execution_count": 29,
   "metadata": {},
   "outputs": [
    {
     "name": "stdout",
     "output_type": "stream",
     "text": [
      "0.98\n",
      "{'n_neighbors': 13, 'weights': 'uniform'}\n",
      "KNeighborsClassifier(algorithm='auto', leaf_size=30, metric='minkowski',\n",
      "           metric_params=None, n_jobs=1, n_neighbors=13, p=2,\n",
      "           weights='uniform')\n"
     ]
    }
   ],
   "source": [
    "#Get the best Model directly\n",
    "print(grid.best_score_)\n",
    "print(grid.best_params_)\n",
    "print(grid.best_estimator_)"
   ]
  },
  {
   "cell_type": "markdown",
   "metadata": {},
   "source": [
    "<hr>"
   ]
  },
  {
   "cell_type": "markdown",
   "metadata": {},
   "source": [
    "## Multiple Parameter Tuning using *GridSearchCV*\n",
    "- Example with using **DecisionTreeClassifier**, can tune parameters for *max_depth* and *min_sample_leaf*\n",
    "- For **KNN** besides tunning for *K*, can also tune for *weigths* parameter \n",
    "    - default is **uniform**, treats all neighbors equally\n",
    "    - **distance**, weights closer neighbors more heavily than distant neighbors"
   ]
  },
  {
   "cell_type": "markdown",
   "metadata": {},
   "source": [
    "### 1. Define a grid of parameters that will be searched using K-fold Cross-Validation"
   ]
  },
  {
   "cell_type": "code",
   "execution_count": 27,
   "metadata": {},
   "outputs": [
    {
     "name": "stdout",
     "output_type": "stream",
     "text": [
      "{'n_neighbors': [1, 2, 3, 4, 5, 6, 7, 8, 9, 10, 11, 12, 13, 14, 15, 16, 17, 18, 19, 20, 21, 22, 23, 24, 25, 26, 27, 28, 29, 30], 'weights': ['uniform', 'distance']}\n"
     ]
    }
   ],
   "source": [
    "# Define parameters that should be searched\n",
    "k_range = list(range(1,31))\n",
    "weight_options = ['uniform', 'distance']\n",
    "\n",
    "# Create a dictionary of parameter grid that maps the names to the values (array) that should be searched\n",
    "param_grid = dict(n_neighbors=k_range, weights=weight_options)\n",
    "print(param_grid)"
   ]
  },
  {
   "cell_type": "markdown",
   "metadata": {},
   "source": [
    "### 2. Instantiate the Grid\n",
    "- Creates an *object* ready for **10-fold Cross-Validation**, using **KNN** Model, using **Classification Accuracy** as an evaluation metric, repeated with different *K* and *weight* given in the *param_grid*"
   ]
  },
  {
   "cell_type": "code",
   "execution_count": 28,
   "metadata": {
    "collapsed": true
   },
   "outputs": [],
   "source": [
    "grid = GridSearchCV(knn, param_grid,cv=10, scoring='accuracy')"
   ]
  },
  {
   "cell_type": "markdown",
   "metadata": {},
   "source": [
    "### 3. Train by Fitting the Grid with Data \n",
    "- Running 10-fold CV, 60 times (for each *K* and *weight*)"
   ]
  },
  {
   "cell_type": "code",
   "execution_count": 29,
   "metadata": {},
   "outputs": [
    {
     "data": {
      "text/plain": [
       "GridSearchCV(cv=10, error_score='raise',\n",
       "       estimator=KNeighborsClassifier(algorithm='auto', leaf_size=30, metric='minkowski',\n",
       "           metric_params=None, n_jobs=1, n_neighbors=30, p=2,\n",
       "           weights='uniform'),\n",
       "       fit_params=None, iid=True, n_jobs=1,\n",
       "       param_grid={'n_neighbors': [1, 2, 3, 4, 5, 6, 7, 8, 9, 10, 11, 12, 13, 14, 15, 16, 17, 18, 19, 20, 21, 22, 23, 24, 25, 26, 27, 28, 29, 30], 'weights': ['uniform', 'distance']},\n",
       "       pre_dispatch='2*n_jobs', refit=True, return_train_score=True,\n",
       "       scoring='accuracy', verbose=0)"
      ]
     },
     "execution_count": 29,
     "metadata": {},
     "output_type": "execute_result"
    }
   ],
   "source": [
    "grid.fit(X, y)"
   ]
  },
  {
   "cell_type": "markdown",
   "metadata": {},
   "source": [
    "### 4. Examine the Trained Model"
   ]
  },
  {
   "cell_type": "code",
   "execution_count": 30,
   "metadata": {},
   "outputs": [
    {
     "data": {
      "text/html": [
       "<div>\n",
       "<style>\n",
       "    .dataframe thead tr:only-child th {\n",
       "        text-align: right;\n",
       "    }\n",
       "\n",
       "    .dataframe thead th {\n",
       "        text-align: left;\n",
       "    }\n",
       "\n",
       "    .dataframe tbody tr th {\n",
       "        vertical-align: top;\n",
       "    }\n",
       "</style>\n",
       "<table border=\"1\" class=\"dataframe\">\n",
       "  <thead>\n",
       "    <tr style=\"text-align: right;\">\n",
       "      <th></th>\n",
       "      <th>mean</th>\n",
       "      <th>params</th>\n",
       "      <th>std</th>\n",
       "    </tr>\n",
       "  </thead>\n",
       "  <tbody>\n",
       "    <tr>\n",
       "      <th>1</th>\n",
       "      <td>0.960000</td>\n",
       "      <td>{'n_neighbors': 1, 'weights': 'uniform'}</td>\n",
       "      <td>0.053333</td>\n",
       "    </tr>\n",
       "    <tr>\n",
       "      <th>2</th>\n",
       "      <td>0.960000</td>\n",
       "      <td>{'n_neighbors': 1, 'weights': 'distance'}</td>\n",
       "      <td>0.053333</td>\n",
       "    </tr>\n",
       "    <tr>\n",
       "      <th>3</th>\n",
       "      <td>0.953333</td>\n",
       "      <td>{'n_neighbors': 2, 'weights': 'uniform'}</td>\n",
       "      <td>0.052068</td>\n",
       "    </tr>\n",
       "    <tr>\n",
       "      <th>4</th>\n",
       "      <td>0.960000</td>\n",
       "      <td>{'n_neighbors': 2, 'weights': 'distance'}</td>\n",
       "      <td>0.053333</td>\n",
       "    </tr>\n",
       "    <tr>\n",
       "      <th>5</th>\n",
       "      <td>0.966667</td>\n",
       "      <td>{'n_neighbors': 3, 'weights': 'uniform'}</td>\n",
       "      <td>0.044721</td>\n",
       "    </tr>\n",
       "    <tr>\n",
       "      <th>6</th>\n",
       "      <td>0.966667</td>\n",
       "      <td>{'n_neighbors': 3, 'weights': 'distance'}</td>\n",
       "      <td>0.044721</td>\n",
       "    </tr>\n",
       "    <tr>\n",
       "      <th>7</th>\n",
       "      <td>0.966667</td>\n",
       "      <td>{'n_neighbors': 4, 'weights': 'uniform'}</td>\n",
       "      <td>0.044721</td>\n",
       "    </tr>\n",
       "    <tr>\n",
       "      <th>8</th>\n",
       "      <td>0.966667</td>\n",
       "      <td>{'n_neighbors': 4, 'weights': 'distance'}</td>\n",
       "      <td>0.044721</td>\n",
       "    </tr>\n",
       "    <tr>\n",
       "      <th>9</th>\n",
       "      <td>0.966667</td>\n",
       "      <td>{'n_neighbors': 5, 'weights': 'uniform'}</td>\n",
       "      <td>0.044721</td>\n",
       "    </tr>\n",
       "    <tr>\n",
       "      <th>10</th>\n",
       "      <td>0.966667</td>\n",
       "      <td>{'n_neighbors': 5, 'weights': 'distance'}</td>\n",
       "      <td>0.044721</td>\n",
       "    </tr>\n",
       "    <tr>\n",
       "      <th>11</th>\n",
       "      <td>0.966667</td>\n",
       "      <td>{'n_neighbors': 6, 'weights': 'uniform'}</td>\n",
       "      <td>0.044721</td>\n",
       "    </tr>\n",
       "    <tr>\n",
       "      <th>12</th>\n",
       "      <td>0.966667</td>\n",
       "      <td>{'n_neighbors': 6, 'weights': 'distance'}</td>\n",
       "      <td>0.044721</td>\n",
       "    </tr>\n",
       "    <tr>\n",
       "      <th>13</th>\n",
       "      <td>0.966667</td>\n",
       "      <td>{'n_neighbors': 7, 'weights': 'uniform'}</td>\n",
       "      <td>0.044721</td>\n",
       "    </tr>\n",
       "    <tr>\n",
       "      <th>14</th>\n",
       "      <td>0.966667</td>\n",
       "      <td>{'n_neighbors': 7, 'weights': 'distance'}</td>\n",
       "      <td>0.044721</td>\n",
       "    </tr>\n",
       "    <tr>\n",
       "      <th>15</th>\n",
       "      <td>0.966667</td>\n",
       "      <td>{'n_neighbors': 8, 'weights': 'uniform'}</td>\n",
       "      <td>0.044721</td>\n",
       "    </tr>\n",
       "    <tr>\n",
       "      <th>16</th>\n",
       "      <td>0.966667</td>\n",
       "      <td>{'n_neighbors': 8, 'weights': 'distance'}</td>\n",
       "      <td>0.044721</td>\n",
       "    </tr>\n",
       "    <tr>\n",
       "      <th>17</th>\n",
       "      <td>0.973333</td>\n",
       "      <td>{'n_neighbors': 9, 'weights': 'uniform'}</td>\n",
       "      <td>0.032660</td>\n",
       "    </tr>\n",
       "    <tr>\n",
       "      <th>18</th>\n",
       "      <td>0.973333</td>\n",
       "      <td>{'n_neighbors': 9, 'weights': 'distance'}</td>\n",
       "      <td>0.032660</td>\n",
       "    </tr>\n",
       "    <tr>\n",
       "      <th>19</th>\n",
       "      <td>0.966667</td>\n",
       "      <td>{'n_neighbors': 10, 'weights': 'uniform'}</td>\n",
       "      <td>0.044721</td>\n",
       "    </tr>\n",
       "    <tr>\n",
       "      <th>20</th>\n",
       "      <td>0.973333</td>\n",
       "      <td>{'n_neighbors': 10, 'weights': 'distance'}</td>\n",
       "      <td>0.032660</td>\n",
       "    </tr>\n",
       "    <tr>\n",
       "      <th>21</th>\n",
       "      <td>0.966667</td>\n",
       "      <td>{'n_neighbors': 11, 'weights': 'uniform'}</td>\n",
       "      <td>0.044721</td>\n",
       "    </tr>\n",
       "    <tr>\n",
       "      <th>22</th>\n",
       "      <td>0.973333</td>\n",
       "      <td>{'n_neighbors': 11, 'weights': 'distance'}</td>\n",
       "      <td>0.032660</td>\n",
       "    </tr>\n",
       "    <tr>\n",
       "      <th>23</th>\n",
       "      <td>0.973333</td>\n",
       "      <td>{'n_neighbors': 12, 'weights': 'uniform'}</td>\n",
       "      <td>0.032660</td>\n",
       "    </tr>\n",
       "    <tr>\n",
       "      <th>24</th>\n",
       "      <td>0.973333</td>\n",
       "      <td>{'n_neighbors': 12, 'weights': 'distance'}</td>\n",
       "      <td>0.044222</td>\n",
       "    </tr>\n",
       "    <tr>\n",
       "      <th>25</th>\n",
       "      <td>0.980000</td>\n",
       "      <td>{'n_neighbors': 13, 'weights': 'uniform'}</td>\n",
       "      <td>0.030551</td>\n",
       "    </tr>\n",
       "    <tr>\n",
       "      <th>26</th>\n",
       "      <td>0.973333</td>\n",
       "      <td>{'n_neighbors': 13, 'weights': 'distance'}</td>\n",
       "      <td>0.032660</td>\n",
       "    </tr>\n",
       "    <tr>\n",
       "      <th>27</th>\n",
       "      <td>0.973333</td>\n",
       "      <td>{'n_neighbors': 14, 'weights': 'uniform'}</td>\n",
       "      <td>0.044222</td>\n",
       "    </tr>\n",
       "    <tr>\n",
       "      <th>28</th>\n",
       "      <td>0.973333</td>\n",
       "      <td>{'n_neighbors': 14, 'weights': 'distance'}</td>\n",
       "      <td>0.032660</td>\n",
       "    </tr>\n",
       "    <tr>\n",
       "      <th>29</th>\n",
       "      <td>0.973333</td>\n",
       "      <td>{'n_neighbors': 15, 'weights': 'uniform'}</td>\n",
       "      <td>0.032660</td>\n",
       "    </tr>\n",
       "    <tr>\n",
       "      <th>30</th>\n",
       "      <td>0.980000</td>\n",
       "      <td>{'n_neighbors': 15, 'weights': 'distance'}</td>\n",
       "      <td>0.030551</td>\n",
       "    </tr>\n",
       "    <tr>\n",
       "      <th>31</th>\n",
       "      <td>0.973333</td>\n",
       "      <td>{'n_neighbors': 16, 'weights': 'uniform'}</td>\n",
       "      <td>0.032660</td>\n",
       "    </tr>\n",
       "    <tr>\n",
       "      <th>32</th>\n",
       "      <td>0.973333</td>\n",
       "      <td>{'n_neighbors': 16, 'weights': 'distance'}</td>\n",
       "      <td>0.032660</td>\n",
       "    </tr>\n",
       "    <tr>\n",
       "      <th>33</th>\n",
       "      <td>0.973333</td>\n",
       "      <td>{'n_neighbors': 17, 'weights': 'uniform'}</td>\n",
       "      <td>0.032660</td>\n",
       "    </tr>\n",
       "    <tr>\n",
       "      <th>34</th>\n",
       "      <td>0.980000</td>\n",
       "      <td>{'n_neighbors': 17, 'weights': 'distance'}</td>\n",
       "      <td>0.030551</td>\n",
       "    </tr>\n",
       "    <tr>\n",
       "      <th>35</th>\n",
       "      <td>0.980000</td>\n",
       "      <td>{'n_neighbors': 18, 'weights': 'uniform'}</td>\n",
       "      <td>0.030551</td>\n",
       "    </tr>\n",
       "    <tr>\n",
       "      <th>36</th>\n",
       "      <td>0.973333</td>\n",
       "      <td>{'n_neighbors': 18, 'weights': 'distance'}</td>\n",
       "      <td>0.032660</td>\n",
       "    </tr>\n",
       "    <tr>\n",
       "      <th>37</th>\n",
       "      <td>0.973333</td>\n",
       "      <td>{'n_neighbors': 19, 'weights': 'uniform'}</td>\n",
       "      <td>0.032660</td>\n",
       "    </tr>\n",
       "    <tr>\n",
       "      <th>38</th>\n",
       "      <td>0.980000</td>\n",
       "      <td>{'n_neighbors': 19, 'weights': 'distance'}</td>\n",
       "      <td>0.030551</td>\n",
       "    </tr>\n",
       "    <tr>\n",
       "      <th>39</th>\n",
       "      <td>0.980000</td>\n",
       "      <td>{'n_neighbors': 20, 'weights': 'uniform'}</td>\n",
       "      <td>0.030551</td>\n",
       "    </tr>\n",
       "    <tr>\n",
       "      <th>40</th>\n",
       "      <td>0.966667</td>\n",
       "      <td>{'n_neighbors': 20, 'weights': 'distance'}</td>\n",
       "      <td>0.044721</td>\n",
       "    </tr>\n",
       "    <tr>\n",
       "      <th>41</th>\n",
       "      <td>0.966667</td>\n",
       "      <td>{'n_neighbors': 21, 'weights': 'uniform'}</td>\n",
       "      <td>0.033333</td>\n",
       "    </tr>\n",
       "    <tr>\n",
       "      <th>42</th>\n",
       "      <td>0.966667</td>\n",
       "      <td>{'n_neighbors': 21, 'weights': 'distance'}</td>\n",
       "      <td>0.044721</td>\n",
       "    </tr>\n",
       "    <tr>\n",
       "      <th>43</th>\n",
       "      <td>0.966667</td>\n",
       "      <td>{'n_neighbors': 22, 'weights': 'uniform'}</td>\n",
       "      <td>0.033333</td>\n",
       "    </tr>\n",
       "    <tr>\n",
       "      <th>44</th>\n",
       "      <td>0.966667</td>\n",
       "      <td>{'n_neighbors': 22, 'weights': 'distance'}</td>\n",
       "      <td>0.044721</td>\n",
       "    </tr>\n",
       "    <tr>\n",
       "      <th>45</th>\n",
       "      <td>0.973333</td>\n",
       "      <td>{'n_neighbors': 23, 'weights': 'uniform'}</td>\n",
       "      <td>0.032660</td>\n",
       "    </tr>\n",
       "    <tr>\n",
       "      <th>46</th>\n",
       "      <td>0.973333</td>\n",
       "      <td>{'n_neighbors': 23, 'weights': 'distance'}</td>\n",
       "      <td>0.032660</td>\n",
       "    </tr>\n",
       "    <tr>\n",
       "      <th>47</th>\n",
       "      <td>0.960000</td>\n",
       "      <td>{'n_neighbors': 24, 'weights': 'uniform'}</td>\n",
       "      <td>0.044222</td>\n",
       "    </tr>\n",
       "    <tr>\n",
       "      <th>48</th>\n",
       "      <td>0.973333</td>\n",
       "      <td>{'n_neighbors': 24, 'weights': 'distance'}</td>\n",
       "      <td>0.032660</td>\n",
       "    </tr>\n",
       "    <tr>\n",
       "      <th>49</th>\n",
       "      <td>0.966667</td>\n",
       "      <td>{'n_neighbors': 25, 'weights': 'uniform'}</td>\n",
       "      <td>0.033333</td>\n",
       "    </tr>\n",
       "    <tr>\n",
       "      <th>50</th>\n",
       "      <td>0.973333</td>\n",
       "      <td>{'n_neighbors': 25, 'weights': 'distance'}</td>\n",
       "      <td>0.032660</td>\n",
       "    </tr>\n",
       "    <tr>\n",
       "      <th>51</th>\n",
       "      <td>0.960000</td>\n",
       "      <td>{'n_neighbors': 26, 'weights': 'uniform'}</td>\n",
       "      <td>0.044222</td>\n",
       "    </tr>\n",
       "    <tr>\n",
       "      <th>52</th>\n",
       "      <td>0.966667</td>\n",
       "      <td>{'n_neighbors': 26, 'weights': 'distance'}</td>\n",
       "      <td>0.044721</td>\n",
       "    </tr>\n",
       "    <tr>\n",
       "      <th>53</th>\n",
       "      <td>0.966667</td>\n",
       "      <td>{'n_neighbors': 27, 'weights': 'uniform'}</td>\n",
       "      <td>0.044721</td>\n",
       "    </tr>\n",
       "    <tr>\n",
       "      <th>54</th>\n",
       "      <td>0.980000</td>\n",
       "      <td>{'n_neighbors': 27, 'weights': 'distance'}</td>\n",
       "      <td>0.030551</td>\n",
       "    </tr>\n",
       "    <tr>\n",
       "      <th>55</th>\n",
       "      <td>0.953333</td>\n",
       "      <td>{'n_neighbors': 28, 'weights': 'uniform'}</td>\n",
       "      <td>0.042687</td>\n",
       "    </tr>\n",
       "    <tr>\n",
       "      <th>56</th>\n",
       "      <td>0.973333</td>\n",
       "      <td>{'n_neighbors': 28, 'weights': 'distance'}</td>\n",
       "      <td>0.032660</td>\n",
       "    </tr>\n",
       "    <tr>\n",
       "      <th>57</th>\n",
       "      <td>0.953333</td>\n",
       "      <td>{'n_neighbors': 29, 'weights': 'uniform'}</td>\n",
       "      <td>0.042687</td>\n",
       "    </tr>\n",
       "    <tr>\n",
       "      <th>58</th>\n",
       "      <td>0.973333</td>\n",
       "      <td>{'n_neighbors': 29, 'weights': 'distance'}</td>\n",
       "      <td>0.032660</td>\n",
       "    </tr>\n",
       "    <tr>\n",
       "      <th>59</th>\n",
       "      <td>0.953333</td>\n",
       "      <td>{'n_neighbors': 30, 'weights': 'uniform'}</td>\n",
       "      <td>0.042687</td>\n",
       "    </tr>\n",
       "    <tr>\n",
       "      <th>60</th>\n",
       "      <td>0.966667</td>\n",
       "      <td>{'n_neighbors': 30, 'weights': 'distance'}</td>\n",
       "      <td>0.033333</td>\n",
       "    </tr>\n",
       "  </tbody>\n",
       "</table>\n",
       "</div>"
      ],
      "text/plain": [
       "        mean                                      params       std\n",
       "1   0.960000    {'n_neighbors': 1, 'weights': 'uniform'}  0.053333\n",
       "2   0.960000   {'n_neighbors': 1, 'weights': 'distance'}  0.053333\n",
       "3   0.953333    {'n_neighbors': 2, 'weights': 'uniform'}  0.052068\n",
       "4   0.960000   {'n_neighbors': 2, 'weights': 'distance'}  0.053333\n",
       "5   0.966667    {'n_neighbors': 3, 'weights': 'uniform'}  0.044721\n",
       "6   0.966667   {'n_neighbors': 3, 'weights': 'distance'}  0.044721\n",
       "7   0.966667    {'n_neighbors': 4, 'weights': 'uniform'}  0.044721\n",
       "8   0.966667   {'n_neighbors': 4, 'weights': 'distance'}  0.044721\n",
       "9   0.966667    {'n_neighbors': 5, 'weights': 'uniform'}  0.044721\n",
       "10  0.966667   {'n_neighbors': 5, 'weights': 'distance'}  0.044721\n",
       "11  0.966667    {'n_neighbors': 6, 'weights': 'uniform'}  0.044721\n",
       "12  0.966667   {'n_neighbors': 6, 'weights': 'distance'}  0.044721\n",
       "13  0.966667    {'n_neighbors': 7, 'weights': 'uniform'}  0.044721\n",
       "14  0.966667   {'n_neighbors': 7, 'weights': 'distance'}  0.044721\n",
       "15  0.966667    {'n_neighbors': 8, 'weights': 'uniform'}  0.044721\n",
       "16  0.966667   {'n_neighbors': 8, 'weights': 'distance'}  0.044721\n",
       "17  0.973333    {'n_neighbors': 9, 'weights': 'uniform'}  0.032660\n",
       "18  0.973333   {'n_neighbors': 9, 'weights': 'distance'}  0.032660\n",
       "19  0.966667   {'n_neighbors': 10, 'weights': 'uniform'}  0.044721\n",
       "20  0.973333  {'n_neighbors': 10, 'weights': 'distance'}  0.032660\n",
       "21  0.966667   {'n_neighbors': 11, 'weights': 'uniform'}  0.044721\n",
       "22  0.973333  {'n_neighbors': 11, 'weights': 'distance'}  0.032660\n",
       "23  0.973333   {'n_neighbors': 12, 'weights': 'uniform'}  0.032660\n",
       "24  0.973333  {'n_neighbors': 12, 'weights': 'distance'}  0.044222\n",
       "25  0.980000   {'n_neighbors': 13, 'weights': 'uniform'}  0.030551\n",
       "26  0.973333  {'n_neighbors': 13, 'weights': 'distance'}  0.032660\n",
       "27  0.973333   {'n_neighbors': 14, 'weights': 'uniform'}  0.044222\n",
       "28  0.973333  {'n_neighbors': 14, 'weights': 'distance'}  0.032660\n",
       "29  0.973333   {'n_neighbors': 15, 'weights': 'uniform'}  0.032660\n",
       "30  0.980000  {'n_neighbors': 15, 'weights': 'distance'}  0.030551\n",
       "31  0.973333   {'n_neighbors': 16, 'weights': 'uniform'}  0.032660\n",
       "32  0.973333  {'n_neighbors': 16, 'weights': 'distance'}  0.032660\n",
       "33  0.973333   {'n_neighbors': 17, 'weights': 'uniform'}  0.032660\n",
       "34  0.980000  {'n_neighbors': 17, 'weights': 'distance'}  0.030551\n",
       "35  0.980000   {'n_neighbors': 18, 'weights': 'uniform'}  0.030551\n",
       "36  0.973333  {'n_neighbors': 18, 'weights': 'distance'}  0.032660\n",
       "37  0.973333   {'n_neighbors': 19, 'weights': 'uniform'}  0.032660\n",
       "38  0.980000  {'n_neighbors': 19, 'weights': 'distance'}  0.030551\n",
       "39  0.980000   {'n_neighbors': 20, 'weights': 'uniform'}  0.030551\n",
       "40  0.966667  {'n_neighbors': 20, 'weights': 'distance'}  0.044721\n",
       "41  0.966667   {'n_neighbors': 21, 'weights': 'uniform'}  0.033333\n",
       "42  0.966667  {'n_neighbors': 21, 'weights': 'distance'}  0.044721\n",
       "43  0.966667   {'n_neighbors': 22, 'weights': 'uniform'}  0.033333\n",
       "44  0.966667  {'n_neighbors': 22, 'weights': 'distance'}  0.044721\n",
       "45  0.973333   {'n_neighbors': 23, 'weights': 'uniform'}  0.032660\n",
       "46  0.973333  {'n_neighbors': 23, 'weights': 'distance'}  0.032660\n",
       "47  0.960000   {'n_neighbors': 24, 'weights': 'uniform'}  0.044222\n",
       "48  0.973333  {'n_neighbors': 24, 'weights': 'distance'}  0.032660\n",
       "49  0.966667   {'n_neighbors': 25, 'weights': 'uniform'}  0.033333\n",
       "50  0.973333  {'n_neighbors': 25, 'weights': 'distance'}  0.032660\n",
       "51  0.960000   {'n_neighbors': 26, 'weights': 'uniform'}  0.044222\n",
       "52  0.966667  {'n_neighbors': 26, 'weights': 'distance'}  0.044721\n",
       "53  0.966667   {'n_neighbors': 27, 'weights': 'uniform'}  0.044721\n",
       "54  0.980000  {'n_neighbors': 27, 'weights': 'distance'}  0.030551\n",
       "55  0.953333   {'n_neighbors': 28, 'weights': 'uniform'}  0.042687\n",
       "56  0.973333  {'n_neighbors': 28, 'weights': 'distance'}  0.032660\n",
       "57  0.953333   {'n_neighbors': 29, 'weights': 'uniform'}  0.042687\n",
       "58  0.973333  {'n_neighbors': 29, 'weights': 'distance'}  0.032660\n",
       "59  0.953333   {'n_neighbors': 30, 'weights': 'uniform'}  0.042687\n",
       "60  0.966667  {'n_neighbors': 30, 'weights': 'distance'}  0.033333"
      ]
     },
     "execution_count": 30,
     "metadata": {},
     "output_type": "execute_result"
    }
   ],
   "source": [
    "# Look at the results in grid.cv_results_\n",
    "results = {'params': grid.cv_results_['params'],\n",
    "           'mean': grid.cv_results_['mean_test_score'],\n",
    "           'std': grid.cv_results_['std_test_score']}\n",
    "\n",
    "results = pd.DataFrame(results)\n",
    "results.index += 1 \n",
    "results"
   ]
  },
  {
   "cell_type": "code",
   "execution_count": 32,
   "metadata": {},
   "outputs": [
    {
     "name": "stdout",
     "output_type": "stream",
     "text": [
      "0.98\n",
      "{'n_neighbors': 13, 'weights': 'uniform'}\n",
      "KNeighborsClassifier(algorithm='auto', leaf_size=30, metric='minkowski',\n",
      "           metric_params=None, n_jobs=1, n_neighbors=13, p=2,\n",
      "           weights='uniform')\n"
     ]
    }
   ],
   "source": [
    "# Examine the best Model\n",
    "print(grid.best_score_)\n",
    "print(grid.best_params_)\n",
    "print(grid.best_estimator_)"
   ]
  },
  {
   "cell_type": "markdown",
   "metadata": {},
   "source": [
    "<hr>"
   ]
  },
  {
   "cell_type": "markdown",
   "metadata": {},
   "source": [
    "## Using the Best Parameters to Predict\n",
    "- Train the Model using the best parameters using all the data\n",
    "- **GridSearchCV** performs Cross-Validation while tunning\n",
    "- Can also Predict with **GridSearchCV**, which will use the best parameters and Train on the whole dataset"
   ]
  },
  {
   "cell_type": "code",
   "execution_count": 33,
   "metadata": {},
   "outputs": [
    {
     "data": {
      "text/plain": [
       "KNeighborsClassifier(algorithm='auto', leaf_size=30, metric='minkowski',\n",
       "           metric_params=None, n_jobs=1, n_neighbors=13, p=2,\n",
       "           weights='uniform')"
      ]
     },
     "execution_count": 33,
     "metadata": {},
     "output_type": "execute_result"
    }
   ],
   "source": [
    "# Train the Model with the best parameters\n",
    "knn = KNeighborsClassifier(n_neighbors=13, weights='uniform')\n",
    "knn.fit(X,y)"
   ]
  },
  {
   "cell_type": "code",
   "execution_count": 34,
   "metadata": {},
   "outputs": [
    {
     "data": {
      "text/plain": [
       "array([1])"
      ]
     },
     "execution_count": 34,
     "metadata": {},
     "output_type": "execute_result"
    }
   ],
   "source": [
    "# Predict on out-of-sample data\n",
    "knn.predict([[3,5,4,2]])"
   ]
  },
  {
   "cell_type": "code",
   "execution_count": 36,
   "metadata": {},
   "outputs": [
    {
     "data": {
      "text/plain": [
       "array([1])"
      ]
     },
     "execution_count": 36,
     "metadata": {},
     "output_type": "execute_result"
    }
   ],
   "source": [
    "# Same as the above in one step\n",
    "# Refit the best Model using all of the data and Predict\n",
    "grid.predict([[3,5,4,2]])"
   ]
  },
  {
   "cell_type": "markdown",
   "metadata": {},
   "source": [
    "<hr>"
   ]
  },
  {
   "cell_type": "markdown",
   "metadata": {},
   "source": [
    "## Reduce Computational Expense Using *RandomizedSearchCV*\n",
    "- Searches a subset of the parameters"
   ]
  },
  {
   "cell_type": "code",
   "execution_count": 37,
   "metadata": {
    "collapsed": true
   },
   "outputs": [],
   "source": [
    "from sklearn.model_selection import RandomizedSearchCV"
   ]
  },
  {
   "cell_type": "markdown",
   "metadata": {},
   "source": [
    "### 1. Specify Parameter distributions rather than parameter grid\n",
    "- For discrete parameters, parameter distribution is the same as parameter grid"
   ]
  },
  {
   "cell_type": "code",
   "execution_count": 38,
   "metadata": {},
   "outputs": [
    {
     "name": "stdout",
     "output_type": "stream",
     "text": [
      "{'n_neighbors': [1, 2, 3, 4, 5, 6, 7, 8, 9, 10, 11, 12, 13, 14, 15, 16, 17, 18, 19, 20, 21, 22, 23, 24, 25, 26, 27, 28, 29, 30], 'weights': ['uniform', 'distance']}\n"
     ]
    }
   ],
   "source": [
    "# Define parameters that should be searched\n",
    "k_range = list(range(1,31))\n",
    "weight_options = ['uniform', 'distance']\n",
    "\n",
    "# Create a dictionary of parameter distributions that maps the names to the values (array) that should be searched\n",
    "param_dist = dict(n_neighbors=k_range, weights=weight_options)\n",
    "print(param_dist)"
   ]
  },
  {
   "cell_type": "code",
   "execution_count": null,
   "metadata": {
    "collapsed": true
   },
   "outputs": [],
   "source": []
  }
 ],
 "metadata": {
  "kernelspec": {
   "display_name": "Python 3",
   "language": "python",
   "name": "python3"
  },
  "language_info": {
   "codemirror_mode": {
    "name": "ipython",
    "version": 3
   },
   "file_extension": ".py",
   "mimetype": "text/x-python",
   "name": "python",
   "nbconvert_exporter": "python",
   "pygments_lexer": "ipython3",
   "version": "3.6.2"
  }
 },
 "nbformat": 4,
 "nbformat_minor": 2
}
