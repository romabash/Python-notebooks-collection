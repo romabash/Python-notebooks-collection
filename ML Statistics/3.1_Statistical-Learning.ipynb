{
 "cells": [
  {
   "cell_type": "markdown",
   "metadata": {},
   "source": [
    "# Statistical Learning"
   ]
  },
  {
   "cell_type": "markdown",
   "metadata": {},
   "source": [
    "---"
   ]
  },
  {
   "cell_type": "markdown",
   "metadata": {},
   "source": [
    "## Statistical Learning\n",
    "- Represent random vector $X$ whose components $x_{i}$ are random variables and quantifiable outcome as random vector $Y$ with joint probability $P(X, Y)$\n",
    "- The joint density of the random variables $x_{i}$ : $f(X)$ and their joint distribution $F(X)$\n",
    "$$f(X) = f(x_{1} , ... . , x_{n})$$ and $$F(X) = F(x_{1} , ... x_{n})$$\n",
    "- Start with empirical distribution $F(X)$ that has empirical parameters $\\theta$ and major objective of statistics is to give exact description of the example based on estimates of the parameters\n",
    "- Predict $x$ vs. Estimate $\\theta$"
   ]
  },
  {
   "cell_type": "markdown",
   "metadata": {},
   "source": [
    "## Structure of Machine Learning\n",
    "- Given some inputs, as representation, calculate something about them \n",
    "- Assume that there is a function $f(X)$ that describes the approximate relationship between $Y$ and $X$:\n",
    "$$f(X) = E(Y|X = x, \\theta)$$\n",
    "where $\\theta$ is parameter of the data distribution"
   ]
  },
  {
   "cell_type": "markdown",
   "metadata": {},
   "source": [
    "## Point Estimation\n",
    "- Point Estimation is the attempt to provide “best” prediction of some quantity of interest.\n",
    "- Distinguish estimates of parameters from their true values by denoting estimate of a parameter $\\theta$ by $\\hat{\\theta}$ which is also a random variable (function of $x_{i}$ r.v.)\n",
    "- Let ${x^1, x^2, ..., x^n}$ be a set of $n$ independent and identically distributed data points. A **point estimator** or **statistic** is any function of the data:\n",
    "$$\\hat{\\theta}_{n} = g(X) = g(x^1 , x^2 , ..., x^n)$$"
   ]
  },
  {
   "cell_type": "markdown",
   "metadata": {},
   "source": [
    "## Point Estimation Example\n",
    "- If the function $g(X)$ is properly selected than the estimation error $\\theta - \\hat{\\theta}_{n}$ decreases as number $n$ of examples increases\n",
    "- Assume $\\mu$ denotes the mean grade point average of all college students, and the sample space is {1,2,3,4}. If $x_i$ are the observed grades of a sample of 88 students, then:\n",
    "$$\\hat{\\mu} = \\frac{1}{88} \\sum^{88}_{1} x_{i} = 3.12$$\n",
    "is a point estimate of $\\mu$, the mean grade point average of all the students in the population"
   ]
  },
  {
   "cell_type": "markdown",
   "metadata": {},
   "source": [
    "## Function Estimation\n",
    "- Approximating $f$ with a model or estimate $\\hat{f}$ chosen from hypothesis space\n",
    "- Select functions from a carefully specified set, known as hypothesis space\n",
    "- Decide how to represent data set and select hypothesis space\n",
    "- Generally this space is indexed by a set of parameters $\\theta$ that can be tuned to create different machines:\n",
    "$$H ∶ {f(Y|X, \\theta)}$$"
   ]
  },
  {
   "cell_type": "markdown",
   "metadata": {},
   "source": [
    "## MLE\n",
    "- Goal is to find **“Maximum Likelihood Estimation”** for parameter $\\theta$\n",
    "- Consider a set of samples $X$ chosen according to one of family of probability distributions but we don’t know parameters of distribution. We define Likelihood function $$L(\\theta | X) = f(X;θ) = P(X) = x$$ as joined probability distribution of samples X.\n",
    "- Let $P_{model}(X, \\theta)$ be family of probability distributions over the space $\\theta$. The maximum likelihood estimator for $\\theta$ is defined as:\n",
    "$$\\theta_{ML} = arg_{\\theta}max L(\\theta|X)$$\n",
    "$$\\theta_{ML} = arg_{\\theta}max P_{model}(x^1,x^2,...,x^m; \\theta)$$\n",
    "$$\\theta_{ML} = arg_{\\theta}max \\Pi_{i=1}^m P_{model}(x^i; \\theta)$$"
   ]
  },
  {
   "cell_type": "code",
   "execution_count": null,
   "metadata": {},
   "outputs": [],
   "source": []
  }
 ],
 "metadata": {
  "kernelspec": {
   "display_name": "Python 3",
   "language": "python",
   "name": "python3"
  },
  "language_info": {
   "codemirror_mode": {
    "name": "ipython",
    "version": 3
   },
   "file_extension": ".py",
   "mimetype": "text/x-python",
   "name": "python",
   "nbconvert_exporter": "python",
   "pygments_lexer": "ipython3",
   "version": "3.7.6"
  }
 },
 "nbformat": 4,
 "nbformat_minor": 4
}
