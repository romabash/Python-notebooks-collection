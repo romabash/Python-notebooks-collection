{
 "cells": [
  {
   "cell_type": "code",
   "execution_count": 11,
   "metadata": {},
   "outputs": [],
   "source": [
    "import numpy as np\n",
    "from scipy import linalg\n",
    "import sympy as sympy\n",
    "from sympy import *"
   ]
  },
  {
   "cell_type": "markdown",
   "metadata": {},
   "source": [
    "---"
   ]
  },
  {
   "cell_type": "markdown",
   "metadata": {},
   "source": [
    "# Matrix Properties"
   ]
  },
  {
   "cell_type": "markdown",
   "metadata": {},
   "source": [
    "### Inverse and Determinants"
   ]
  },
  {
   "cell_type": "markdown",
   "metadata": {},
   "source": [
    "- The $n \\times n$ Matrix $A$ is **Invertible** and **Non-Singular** if there exists a Matrix $B$ such that $AB = BA = I$\n",
    "- The **Determinant** is a scalar value that indicates the scale of the transformation\n",
    "- If Matrix $A$ is **Invertable**, then Matrix $A \\begin{bmatrix} a & d \\\\ b & c \\end{bmatrix}$ is **Non-Singular**, and $ab - cd \\neq 0$\n",
    "- If Matrix $A$ is **Non-Invertable**, then Matrix $A \\begin{bmatrix} a & d \\\\ b & c \\end{bmatrix}$ is **Singular**, and $ab - cd = 0$\n",
    "- If Matricies $A$ and $B$ are Invertible $n \\times n$ Matricies, then $(AB)^{-1} = B^{-1}A^{-1}$"
   ]
  },
  {
   "cell_type": "markdown",
   "metadata": {},
   "source": [
    "### Matrix Transpose"
   ]
  },
  {
   "cell_type": "markdown",
   "metadata": {},
   "source": [
    "- Find Matrix $(AB)^{T}$ if $A = \\begin{bmatrix} 1 & 3 \\\\ 2 & 4 \\end{bmatrix}$ and $B = \\begin{bmatrix} 6 & 0 \\\\ -2 & 7 \\end{bmatrix}$\n",
    "- $(AB)^{T} \\neq A^{T} B^{T}$"
   ]
  },
  {
   "cell_type": "code",
   "execution_count": 4,
   "metadata": {},
   "outputs": [],
   "source": [
    "A = np.array([[1,3], [2,4]])\n",
    "B = np.array([[6,0], [-2,7]])"
   ]
  },
  {
   "cell_type": "code",
   "execution_count": 5,
   "metadata": {},
   "outputs": [
    {
     "data": {
      "text/plain": [
       "array([[ 0,  4],\n",
       "       [21, 28]])"
      ]
     },
     "execution_count": 5,
     "metadata": {},
     "output_type": "execute_result"
    }
   ],
   "source": [
    "# Find Transpose of A*B\n",
    "np.transpose(np.dot(A,B))"
   ]
  },
  {
   "cell_type": "code",
   "execution_count": 6,
   "metadata": {},
   "outputs": [
    {
     "data": {
      "text/plain": [
       "array([[ 6, 12],\n",
       "       [18, 22]])"
      ]
     },
     "execution_count": 6,
     "metadata": {},
     "output_type": "execute_result"
    }
   ],
   "source": [
    "# Dot Product of A.transpose() and B.transpose()\n",
    "np.dot(A.transpose(), B.transpose())"
   ]
  },
  {
   "cell_type": "markdown",
   "metadata": {},
   "source": [
    "- $(AB)^{T} \\neq A^{T} B^{T}$"
   ]
  },
  {
   "cell_type": "markdown",
   "metadata": {},
   "source": [
    "---"
   ]
  },
  {
   "cell_type": "markdown",
   "metadata": {},
   "source": [
    "# Linear Systems"
   ]
  },
  {
   "cell_type": "markdown",
   "metadata": {},
   "source": [
    "### Augmented Matrix Notation and Elimination Algorithm:\n",
    "- Forward prop for every row:\n",
    "    - Make the leftmost nonzero entry in the top row 1 by multiplication\n",
    "    - Use that to eliminate everything below it\n",
    "    - Make the leftmost nonzero entry in the next row 1\n",
    "    - Use that to eliminate everything below it\n",
    "    - Go to the next row and repeat...\n",
    "- Back prop:\n",
    "    - In the column that contains leftmost entry 1, eliminate entries above it and make them zero\n",
    "    \n",
    "### Elementary Row Operations:\n",
    "- Row swap\n",
    "- Scalar Multiplication\n",
    "- Row Addition\n",
    "\n",
    "### Pivots and Free Variables:\n",
    "- In every row the leftmost non-zero entry 1 is called a pivot\n",
    "- Variables corresponding to the columns that do not contain the pivot are called Free Variables"
   ]
  },
  {
   "cell_type": "markdown",
   "metadata": {},
   "source": [
    "### RREF: Reduced Row Echelon Form"
   ]
  },
  {
   "cell_type": "markdown",
   "metadata": {},
   "source": [
    "- Use elementary row operations to find the RREF for Matrix $A = \\begin{bmatrix} 1 & 2 & 3 \\\\ 4 & 5 & 6 \\\\ 7 & 8 & 9 \\end{bmatrix}$"
   ]
  },
  {
   "cell_type": "code",
   "execution_count": 22,
   "metadata": {},
   "outputs": [
    {
     "name": "stdout",
     "output_type": "stream",
     "text": [
      "Matrix : Matrix([[1, 2, 3], [4, 5, 6], [7, 8, 9]]) \n",
      "Matrix : (Matrix([\n",
      "[1, 0, -1],\n",
      "[0, 1,  2],\n",
      "[0, 0,  0]]), (0, 1)) \n"
     ]
    }
   ],
   "source": [
    "A = np.array([[1,2,3],[4,5,6],[7,8,9]])\n",
    "\n",
    "# Transform NumPy array into a Sympy Matrix\n",
    "M = sympy.Matrix(A)\n",
    "print(f\"Matrix : {M} \") \n",
    "   \n",
    "# Use sympy.rref() method  \n",
    "M_rref = M.rref()\n",
    "print(f\"Matrix : {M_rref} \") "
   ]
  },
  {
   "cell_type": "markdown",
   "metadata": {},
   "source": [
    "### Rank of a Matrix:\n",
    "- Gaussian elimination reveals the **Pivot Variables** and **Free Variables** of a Matrix\n",
    "- If there are **r** Pivots, then there are **n - r** Free Variables\n",
    "- The **Rank of a Matrix, rank(A)** is equal to the number of **Pivot Variables** "
   ]
  },
  {
   "cell_type": "code",
   "execution_count": 25,
   "metadata": {},
   "outputs": [
    {
     "data": {
      "text/plain": [
       "3"
      ]
     },
     "execution_count": 25,
     "metadata": {},
     "output_type": "execute_result"
    }
   ],
   "source": [
    "# Find the Rank of Matrix A\n",
    "A = np.array([[1,2,3],[1,4,9],[1,8,27]])\n",
    "\n",
    "# Find Rank using np.linalg.matrix_rank(A)\n",
    "np.linalg.matrix_rank(A)"
   ]
  },
  {
   "cell_type": "code",
   "execution_count": 26,
   "metadata": {},
   "outputs": [
    {
     "name": "stdout",
     "output_type": "stream",
     "text": [
      "Matrix : (Matrix([\n",
      "[1, 0, 0],\n",
      "[0, 1, 0],\n",
      "[0, 0, 1]]), (0, 1, 2)) \n"
     ]
    }
   ],
   "source": [
    "# Find Rank with RREF, using sympy.rref() method\n",
    "M = sympy.Matrix(A)\n",
    "M_rref = M.rref()\n",
    "print(f\"Matrix : {M_rref} \") "
   ]
  },
  {
   "cell_type": "markdown",
   "metadata": {},
   "source": [
    "- 3 Pivots indicate Rank(A) = 3"
   ]
  },
  {
   "cell_type": "markdown",
   "metadata": {},
   "source": [
    "### Solvability and Rank of a Matrix:\n",
    "- Full Column rank:\n",
    "    - For mxn Matrix A, if n<m, rank(A) = n, and there is zero or one solutions\n",
    "- Full Row rank:\n",
    "    - For mxn Matrix A, if m<n, rank(A) = m, and there is always a solution (infinite numner)\n",
    "- Full rank:\n",
    "    - For mxn Matrix A, if m=n, rank(A) = m = n, and there is only one unique solution, Matrix is Invertible\n",
    "- Not Full rank:\n",
    "    - For mxn Matrix A, if m=n, rank(A) < {m,n}, and there is zero or infinitelly manu solutions"
   ]
  },
  {
   "cell_type": "markdown",
   "metadata": {},
   "source": [
    "### Solution Set:\n",
    "- **Non-Homogenoues System** or **Particular**: $Ax_{p}  = b$\n",
    "    - If Matrix A is an $n \\times n$ Matrix and has a rank of $n$, then the system $Ax = b$ has a unique solution, and RREF of A is the Identity Matrix $I$\n",
    "- **Homogenoues System**: $Ax_{h} = 0$\n",
    "    - Trivial solution to a homogenous system is $x = 0$, but there may be infinitely many solutions, when there are more unknowns than equations\n",
    "    - If Matrix A is a square Matrix $n \\times n$, and $Ax = 0$ has only trivial solution $x = 0$, then the Rank(A) is $n$\n",
    "- **Complete Soluton** is a set of solutions: $x = x_{p} + x_{h}$\n",
    "- $A(x_{p} + x_{h}) = Ax_{p} + Ax_{h} = b + 0 = b$"
   ]
  },
  {
   "cell_type": "markdown",
   "metadata": {},
   "source": [
    "---"
   ]
  },
  {
   "cell_type": "markdown",
   "metadata": {},
   "source": [
    "# Vector Spaces"
   ]
  },
  {
   "cell_type": "markdown",
   "metadata": {},
   "source": [
    "### Vectors:\n",
    "- Vector $v$ in space $R^{n}$ is denotes as $v = (v_{1}, v_{2}, ... , v_{n})$\n",
    "- $0$ is a Zero Vector\n",
    "- Vector Space: Vectors that are subject to Vector Addition and Multiplication\n",
    "- Subspace: A Subset $W$of a Vector Space $V$ is called a **subspace** of $V$ if $W$ is itself a Vector Space under addition and scalar multiplication difined in $V$"
   ]
  },
  {
   "cell_type": "markdown",
   "metadata": {},
   "source": [
    "### Span:\n",
    "- **Linear Combination** of some set of vectors $(v_{1}, v_{2}, ... , v_{n})$ is given by multiplying each vector by a corresponding scalar coefficient and adding the results: $\\Sigma_{i} c_{i}v_{i}$\n",
    "- The subspace of a Vector Space formed by all possible combinations of the vectors in the non-empty set of Vectors $S$, is called the **Span of $S$** and the Vectors in $S$ **span the subspace $S$**\n",
    "- **Span(S)** = span$(v_{1}, v_{2}, ... , v_{n})$\n",
    "- Span{v} in $R^{3}$ is a **Line** that contains $v$ and the  origin\n",
    "- Span{u,v} in $R^{3}$ is a **Plain** that contains $u, v$ and the origin"
   ]
  },
  {
   "cell_type": "code",
   "execution_count": null,
   "metadata": {},
   "outputs": [],
   "source": []
  },
  {
   "cell_type": "code",
   "execution_count": null,
   "metadata": {},
   "outputs": [],
   "source": []
  },
  {
   "cell_type": "code",
   "execution_count": null,
   "metadata": {},
   "outputs": [],
   "source": []
  },
  {
   "cell_type": "markdown",
   "metadata": {},
   "source": [
    "# Eigenvectors and Eigenvalues"
   ]
  },
  {
   "cell_type": "code",
   "execution_count": 28,
   "metadata": {},
   "outputs": [
    {
     "name": "stdout",
     "output_type": "stream",
     "text": [
      "Eigenvalues are: \n",
      " [ 3. -1.]\n",
      "Eigenvectors are: \n",
      " [[ 0.70710678 -0.31622777]\n",
      " [ 0.70710678  0.9486833 ]]\n"
     ]
    }
   ],
   "source": [
    "# Find the Eigenvectors of Matix A\n",
    "A = np.array([[2,1],[3,0]])\n",
    "\n",
    "# Eigenvalues (w) and Eigenvectors (v) of Matrix A\n",
    "w, v = np.linalg.eig(A)\n",
    "print(f\"Eigenvalues are: \\n {w}\")\n",
    "print(f\"Eigenvectors are: \\n {v}\")"
   ]
  },
  {
   "cell_type": "code",
   "execution_count": null,
   "metadata": {},
   "outputs": [],
   "source": []
  },
  {
   "cell_type": "code",
   "execution_count": null,
   "metadata": {},
   "outputs": [],
   "source": []
  },
  {
   "cell_type": "markdown",
   "metadata": {},
   "source": [
    "# Single Value Decomposition"
   ]
  },
  {
   "cell_type": "code",
   "execution_count": null,
   "metadata": {},
   "outputs": [],
   "source": []
  },
  {
   "cell_type": "code",
   "execution_count": null,
   "metadata": {},
   "outputs": [],
   "source": []
  },
  {
   "cell_type": "code",
   "execution_count": null,
   "metadata": {},
   "outputs": [],
   "source": []
  },
  {
   "cell_type": "code",
   "execution_count": null,
   "metadata": {},
   "outputs": [],
   "source": []
  },
  {
   "cell_type": "code",
   "execution_count": null,
   "metadata": {},
   "outputs": [],
   "source": []
  },
  {
   "cell_type": "code",
   "execution_count": null,
   "metadata": {},
   "outputs": [],
   "source": []
  },
  {
   "cell_type": "code",
   "execution_count": null,
   "metadata": {},
   "outputs": [],
   "source": []
  }
 ],
 "metadata": {
  "kernelspec": {
   "display_name": "Python 3",
   "language": "python",
   "name": "python3"
  },
  "language_info": {
   "codemirror_mode": {
    "name": "ipython",
    "version": 3
   },
   "file_extension": ".py",
   "mimetype": "text/x-python",
   "name": "python",
   "nbconvert_exporter": "python",
   "pygments_lexer": "ipython3",
   "version": "3.7.6"
  }
 },
 "nbformat": 4,
 "nbformat_minor": 2
}
