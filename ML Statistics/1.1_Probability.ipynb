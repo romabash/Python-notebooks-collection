{
 "cells": [
  {
   "cell_type": "markdown",
   "metadata": {},
   "source": [
    "# Probability Theory"
   ]
  },
  {
   "cell_type": "markdown",
   "metadata": {},
   "source": [
    "## Sets Theory:\n",
    "- The set of outcomes S of an experiment is the set of all possible outcomes of the experiment\n",
    "- $S \\cup T$: the Unioin of S and/or T\n",
    "- $S \\cap T$: the Intercesction of S and T\n",
    "- $T \\subset S$: T is the Subset of S\n",
    "- $S \\cup T^c$: Disjoin"
   ]
  },
  {
   "cell_type": "markdown",
   "metadata": {},
   "source": [
    "### Example: Deck of 52 cards (Sample Space S):\n",
    "- A is an Ace card = Subset A\n",
    "- B is a Heart Card = subset B\n",
    "- Intercect of A and B ($A \\cap B$) is Ace of Hearts\n",
    "- Union of A and B ($A \\cup B$) is either Ace or Heart"
   ]
  },
  {
   "cell_type": "markdown",
   "metadata": {},
   "source": [
    "## Definition of Probability:\n",
    "- Naive definition of Probability of A: $P(A) = \\frac{|A|}{|S|}$ \n",
    "- Example: Which is a more likely sum of two dice: 11 or 12?\n",
    "    - 11 -> (5,6) (6,5)\n",
    "    - 12 -> (6,6)\n",
    "    - 11 is twice as likely"
   ]
  },
  {
   "cell_type": "markdown",
   "metadata": {},
   "source": [
    "## General Definition of Probability:\n",
    "- $0 \\leq P(A) \\leq 1$\n",
    "- Probability of an event is always positive $ P(A) \\geq 0$\n",
    "- If two events exclude eachother, then $P(A or B) = P(A) + P(B)$\n",
    "- Probability that an event will happen and that it will not happen: $P(A or not A) = P(A) + P(not A) = 1$"
   ]
  },
  {
   "cell_type": "markdown",
   "metadata": {},
   "source": [
    "---"
   ]
  },
  {
   "cell_type": "markdown",
   "metadata": {},
   "source": [
    "# Probability Functions\n",
    "- Cumulative Probability Function\n",
    "- Probability Mass Function\n",
    "- Probability Density Function"
   ]
  },
  {
   "cell_type": "markdown",
   "metadata": {},
   "source": [
    "## Cumulative Distribution Function: CDF\n",
    "- $CDF$ of Random Varibale $X$ is defined as probability of tht event {$X \\leq x$}\n",
    "- $CDF = P(X \\leq x)$: Probability that $X$ takes on value in the set {$-\\infty, x$}\n",
    "- Example: $CDF(x)$ of the random varibale $X$ defined as the number of heads in three tosses of a fair a coin, and takes only the values {$0,1,2,3$}\n",
    "    - $cdf(0-1)$ -> $\\frac{1}{8}$\n",
    "    - $cdf(1-2)$ -> $\\frac{1}{2}$\n",
    "    - $cdf(2-3)$ -> $\\frac{7}{8}$\n",
    "    - $cdf(3-4)$ -> $1$"
   ]
  },
  {
   "cell_type": "markdown",
   "metadata": {},
   "source": [
    "## Probability Mass Function: PMF\n",
    "- When a random vriable $x$ is discrete, assign a probability positive number to each value that $x$ can take and then get probability distribution for $x$\n",
    "- $PMF=P(X=x)$\n",
    "- Example: $PMF(x)$ of the random variable $X$ defined as the number of heads in three tosses of a fair coin\n",
    "    - $pmf(0)$ ->  $\\frac{1}{8}$\n",
    "    - $pmf(1)$ ->  $\\frac{3}{8}$\n",
    "    - $pmf(2)$ ->  $\\frac{3}{8}$\n",
    "    - $pmf(3)$ ->  $\\frac{1}{8}$"
   ]
  },
  {
   "cell_type": "markdown",
   "metadata": {},
   "source": [
    "## Probability Density Function: PDF\n",
    "- If the cumulative distribution function has the first derivative, we can define *\"probability density function\"* as the first derivative of the cumulative distribution function $CDF(x) = F(x)$ -> $PDF = \\frac{dF(x)}{dx}$\n",
    "- $PDF$ represent probability that $X$ is in small interval of the vicinity $x$: {$x \\leq X \\leq x+h$}"
   ]
  },
  {
   "cell_type": "markdown",
   "metadata": {},
   "source": [
    "---"
   ]
  },
  {
   "cell_type": "markdown",
   "metadata": {},
   "source": [
    "# Probability Distributions Used in ML\n",
    "- Joint\n",
    "- Marginal\n",
    "- Conditional"
   ]
  },
  {
   "cell_type": "code",
   "execution_count": null,
   "metadata": {},
   "outputs": [],
   "source": []
  }
 ],
 "metadata": {
  "kernelspec": {
   "display_name": "Python 3",
   "language": "python",
   "name": "python3"
  },
  "language_info": {
   "codemirror_mode": {
    "name": "ipython",
    "version": 3
   },
   "file_extension": ".py",
   "mimetype": "text/x-python",
   "name": "python",
   "nbconvert_exporter": "python",
   "pygments_lexer": "ipython3",
   "version": "3.7.6"
  }
 },
 "nbformat": 4,
 "nbformat_minor": 4
}
